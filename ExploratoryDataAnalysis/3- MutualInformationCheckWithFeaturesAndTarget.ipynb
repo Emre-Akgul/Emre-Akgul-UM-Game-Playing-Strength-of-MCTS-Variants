{
 "cells": [
  {
   "cell_type": "markdown",
   "metadata": {},
   "source": [
    "# Mutual Information Check With Features and Target"
   ]
  },
  {
   "cell_type": "markdown",
   "metadata": {},
   "source": [
    "## 1- Initial Preprocessing"
   ]
  },
  {
   "cell_type": "code",
   "execution_count": 1,
   "metadata": {},
   "outputs": [],
   "source": [
    "import numpy as np\n",
    "import pandas as pd\n",
    "\n",
    "import sys\n",
    "import os\n",
    "sys.path.append(os.path.abspath('../'))\n",
    "\n",
    "from Models.LinearRegression import LinearRegression\n",
    "from Utils.Preprocessor import Preprocessor\n",
    "from Utils.Utils import root_mean_squared_error, train_test_split, initial_preprocessing"
   ]
  },
  {
   "cell_type": "code",
   "execution_count": 2,
   "metadata": {},
   "outputs": [],
   "source": [
    "# Read the data\n",
    "train = pd.read_csv('../Data/train.csv', index_col='Id')"
   ]
  },
  {
   "cell_type": "code",
   "execution_count": 3,
   "metadata": {},
   "outputs": [],
   "source": [
    "# Remove unnecessary features based on exploratory data analysis part 1.\n",
    "train = initial_preprocessing(train)"
   ]
  },
  {
   "cell_type": "code",
   "execution_count": 4,
   "metadata": {},
   "outputs": [],
   "source": [
    "X = train.drop(columns=[\"num_wins_agent1\", \"num_draws_agent1\", \"num_losses_agent1\", \"utility_agent1\"], axis=1)\n",
    "y = train[\"utility_agent1\"]\n",
    "y1 = train[\"num_wins_agent1\"]\n",
    "y2 = train[\"num_draws_agent1\"]\n",
    "y3 = train[\"num_losses_agent1\"]"
   ]
  },
  {
   "cell_type": "code",
   "execution_count": 5,
   "metadata": {},
   "outputs": [],
   "source": [
    "# Preprocess the data\n",
    "preprocessor = Preprocessor(normalize=True, one_hot_encode=True)\n",
    "\n",
    "X = preprocessor.fit_transform(X)\n",
    "\n",
    "# Convert back to pandas dataframe\n",
    "X = pd.DataFrame(X, columns=preprocessor.get_column_names())"
   ]
  },
  {
   "cell_type": "markdown",
   "metadata": {},
   "source": [
    "## 2- Mutual Information Check with Target"
   ]
  },
  {
   "cell_type": "markdown",
   "metadata": {},
   "source": [
    "### 2.1- utility_agent1"
   ]
  },
  {
   "cell_type": "code",
   "execution_count": 6,
   "metadata": {},
   "outputs": [],
   "source": [
    "import numpy as np\n",
    "import pandas as pd\n",
    "from collections import Counter\n",
    "\n",
    "def calculate_mutual_information(X, y):\n",
    "    def entropy(values):\n",
    "        \"\"\"Calculate the entropy of a dataset.\"\"\"\n",
    "        # For continuous variables, use binning\n",
    "        if values.dtype.kind in ['f', 'i']:\n",
    "            values = pd.qcut(values, q=10, labels=False, duplicates='drop')\n",
    "        \n",
    "        total = len(values)\n",
    "        counts = Counter(values)\n",
    "        probabilities = np.array([count / total for count in counts.values()])\n",
    "        return -np.sum(probabilities * np.log2(probabilities + 1e-10))\n",
    "    \n",
    "    def conditional_entropy(feature, target):\n",
    "        \"\"\"Calculate the conditional entropy of target given feature.\"\"\"\n",
    "        if feature.dtype.kind in ['f', 'i']:\n",
    "            feature = pd.qcut(feature, q=10, labels=False, duplicates='drop')\n",
    "            \n",
    "        total = len(feature)\n",
    "        unique_values = np.unique(feature)\n",
    "        cond_entropy = 0\n",
    "        \n",
    "        for value in unique_values:\n",
    "            indices = np.where(feature == value)[0]\n",
    "            subset = target[indices]\n",
    "            prob = len(indices) / total\n",
    "            cond_entropy += prob * entropy(subset)\n",
    "            \n",
    "        return cond_entropy\n",
    "    \n",
    "    # Input validation\n",
    "    if not isinstance(X, pd.DataFrame):\n",
    "        raise TypeError(\"X must be a pandas DataFrame\")\n",
    "    if not isinstance(y, (pd.Series, np.ndarray)):\n",
    "        raise TypeError(\"y must be a pandas Series or numpy array\")\n",
    "    if len(X) != len(y):\n",
    "        raise ValueError(\"X and y must have the same number of samples\")\n",
    "        \n",
    "    # Drop categorical columns and store column names\n",
    "    numeric_X = X.select_dtypes(include=['int64', 'float64'])\n",
    "    colnames = numeric_X.columns\n",
    "    \n",
    "    # Convert to numpy arrays\n",
    "    X_values = numeric_X.values\n",
    "    y_values = y.values if isinstance(y, pd.Series) else y\n",
    "    \n",
    "    # Calculate mutual information for each feature\n",
    "    mutual_info = []\n",
    "    target_entropy = entropy(y_values)\n",
    "    \n",
    "    for i in range(X_values.shape[1]):\n",
    "        feature = X_values[:, i]\n",
    "        cond_entropy = conditional_entropy(feature, y_values)\n",
    "        mi = target_entropy - cond_entropy\n",
    "        mutual_info.append(mi)\n",
    "    \n",
    "    # Create a DataFrame with results\n",
    "    mutual_info_df = pd.DataFrame({\n",
    "        \"Feature\": colnames,\n",
    "        \"Mutual Information\": mutual_info\n",
    "    }).sort_values(by=\"Mutual Information\", ascending=False)\n",
    "    \n",
    "    return mutual_info_df"
   ]
  },
  {
   "cell_type": "code",
   "execution_count": 7,
   "metadata": {},
   "outputs": [],
   "source": [
    "mutual_info_utility_agent1 = calculate_mutual_information(X, y)"
   ]
  },
  {
   "cell_type": "code",
   "execution_count": 8,
   "metadata": {},
   "outputs": [
    {
     "data": {
      "text/html": [
       "<div>\n",
       "<style scoped>\n",
       "    .dataframe tbody tr th:only-of-type {\n",
       "        vertical-align: middle;\n",
       "    }\n",
       "\n",
       "    .dataframe tbody tr th {\n",
       "        vertical-align: top;\n",
       "    }\n",
       "\n",
       "    .dataframe thead th {\n",
       "        text-align: right;\n",
       "    }\n",
       "</style>\n",
       "<table border=\"1\" class=\"dataframe\">\n",
       "  <thead>\n",
       "    <tr style=\"text-align: right;\">\n",
       "      <th></th>\n",
       "      <th>Feature</th>\n",
       "      <th>Mutual Information</th>\n",
       "    </tr>\n",
       "  </thead>\n",
       "  <tbody>\n",
       "    <tr>\n",
       "      <th>388</th>\n",
       "      <td>Balance</td>\n",
       "      <td>0.071640</td>\n",
       "    </tr>\n",
       "    <tr>\n",
       "      <th>391</th>\n",
       "      <td>Timeouts</td>\n",
       "      <td>0.052316</td>\n",
       "    </tr>\n",
       "    <tr>\n",
       "      <th>387</th>\n",
       "      <td>AdvantageP1</td>\n",
       "      <td>0.051536</td>\n",
       "    </tr>\n",
       "    <tr>\n",
       "      <th>73</th>\n",
       "      <td>NumContainers</td>\n",
       "      <td>0.018607</td>\n",
       "    </tr>\n",
       "    <tr>\n",
       "      <th>377</th>\n",
       "      <td>DurationMoves</td>\n",
       "      <td>0.016352</td>\n",
       "    </tr>\n",
       "    <tr>\n",
       "      <th>98</th>\n",
       "      <td>NumStartComponentsHand</td>\n",
       "      <td>0.006821</td>\n",
       "    </tr>\n",
       "    <tr>\n",
       "      <th>332</th>\n",
       "      <td>EliminatePiecesLoss</td>\n",
       "      <td>0.000000</td>\n",
       "    </tr>\n",
       "    <tr>\n",
       "      <th>283</th>\n",
       "      <td>BackwardRightDirection</td>\n",
       "      <td>0.000000</td>\n",
       "    </tr>\n",
       "    <tr>\n",
       "      <th>282</th>\n",
       "      <td>ForwardRightDirection</td>\n",
       "      <td>0.000000</td>\n",
       "    </tr>\n",
       "    <tr>\n",
       "      <th>281</th>\n",
       "      <td>LeftwardsDirection</td>\n",
       "      <td>0.000000</td>\n",
       "    </tr>\n",
       "  </tbody>\n",
       "</table>\n",
       "</div>"
      ],
      "text/plain": [
       "                    Feature  Mutual Information\n",
       "388                 Balance            0.071640\n",
       "391                Timeouts            0.052316\n",
       "387             AdvantageP1            0.051536\n",
       "73            NumContainers            0.018607\n",
       "377           DurationMoves            0.016352\n",
       "98   NumStartComponentsHand            0.006821\n",
       "332     EliminatePiecesLoss            0.000000\n",
       "283  BackwardRightDirection            0.000000\n",
       "282   ForwardRightDirection            0.000000\n",
       "281      LeftwardsDirection            0.000000"
      ]
     },
     "execution_count": 8,
     "metadata": {},
     "output_type": "execute_result"
    }
   ],
   "source": [
    "mutual_info_utility_agent1.head(10)"
   ]
  },
  {
   "cell_type": "markdown",
   "metadata": {},
   "source": [
    "### 2.1- num_wins_agent1"
   ]
  },
  {
   "cell_type": "code",
   "execution_count": 9,
   "metadata": {},
   "outputs": [],
   "source": [
    "mutual_info_num_wins_agent1 = calculate_mutual_information(X, y1)"
   ]
  },
  {
   "cell_type": "code",
   "execution_count": 10,
   "metadata": {},
   "outputs": [
    {
     "data": {
      "text/html": [
       "<div>\n",
       "<style scoped>\n",
       "    .dataframe tbody tr th:only-of-type {\n",
       "        vertical-align: middle;\n",
       "    }\n",
       "\n",
       "    .dataframe tbody tr th {\n",
       "        vertical-align: top;\n",
       "    }\n",
       "\n",
       "    .dataframe thead th {\n",
       "        text-align: right;\n",
       "    }\n",
       "</style>\n",
       "<table border=\"1\" class=\"dataframe\">\n",
       "  <thead>\n",
       "    <tr style=\"text-align: right;\">\n",
       "      <th></th>\n",
       "      <th>Feature</th>\n",
       "      <th>Mutual Information</th>\n",
       "    </tr>\n",
       "  </thead>\n",
       "  <tbody>\n",
       "    <tr>\n",
       "      <th>98</th>\n",
       "      <td>NumStartComponentsHand</td>\n",
       "      <td>0.004996</td>\n",
       "    </tr>\n",
       "    <tr>\n",
       "      <th>282</th>\n",
       "      <td>ForwardRightDirection</td>\n",
       "      <td>0.000000</td>\n",
       "    </tr>\n",
       "    <tr>\n",
       "      <th>281</th>\n",
       "      <td>LeftwardsDirection</td>\n",
       "      <td>0.000000</td>\n",
       "    </tr>\n",
       "    <tr>\n",
       "      <th>280</th>\n",
       "      <td>LeftwardDirection</td>\n",
       "      <td>0.000000</td>\n",
       "    </tr>\n",
       "    <tr>\n",
       "      <th>279</th>\n",
       "      <td>BackwardsDirection</td>\n",
       "      <td>0.000000</td>\n",
       "    </tr>\n",
       "    <tr>\n",
       "      <th>278</th>\n",
       "      <td>ForwardsDirection</td>\n",
       "      <td>0.000000</td>\n",
       "    </tr>\n",
       "    <tr>\n",
       "      <th>277</th>\n",
       "      <td>BackwardDirection</td>\n",
       "      <td>0.000000</td>\n",
       "    </tr>\n",
       "    <tr>\n",
       "      <th>324</th>\n",
       "      <td>NoTargetPieceEnd</td>\n",
       "      <td>0.000000</td>\n",
       "    </tr>\n",
       "    <tr>\n",
       "      <th>339</th>\n",
       "      <td>NoOwnPiecesWin</td>\n",
       "      <td>0.000000</td>\n",
       "    </tr>\n",
       "    <tr>\n",
       "      <th>338</th>\n",
       "      <td>NoOwnPiecesEndFrequency</td>\n",
       "      <td>0.000000</td>\n",
       "    </tr>\n",
       "  </tbody>\n",
       "</table>\n",
       "</div>"
      ],
      "text/plain": [
       "                     Feature  Mutual Information\n",
       "98    NumStartComponentsHand            0.004996\n",
       "282    ForwardRightDirection            0.000000\n",
       "281       LeftwardsDirection            0.000000\n",
       "280        LeftwardDirection            0.000000\n",
       "279       BackwardsDirection            0.000000\n",
       "278        ForwardsDirection            0.000000\n",
       "277        BackwardDirection            0.000000\n",
       "324         NoTargetPieceEnd            0.000000\n",
       "339           NoOwnPiecesWin            0.000000\n",
       "338  NoOwnPiecesEndFrequency            0.000000"
      ]
     },
     "execution_count": 10,
     "metadata": {},
     "output_type": "execute_result"
    }
   ],
   "source": [
    "mutual_info_num_wins_agent1.head(10)"
   ]
  },
  {
   "cell_type": "markdown",
   "metadata": {},
   "source": [
    "### 2.2- num_draws_agent1"
   ]
  },
  {
   "cell_type": "code",
   "execution_count": 11,
   "metadata": {},
   "outputs": [],
   "source": [
    "mutual_info_num_draws_agent1 = calculate_mutual_information(X, y2)"
   ]
  },
  {
   "cell_type": "code",
   "execution_count": 12,
   "metadata": {},
   "outputs": [
    {
     "data": {
      "text/html": [
       "<div>\n",
       "<style scoped>\n",
       "    .dataframe tbody tr th:only-of-type {\n",
       "        vertical-align: middle;\n",
       "    }\n",
       "\n",
       "    .dataframe tbody tr th {\n",
       "        vertical-align: top;\n",
       "    }\n",
       "\n",
       "    .dataframe thead th {\n",
       "        text-align: right;\n",
       "    }\n",
       "</style>\n",
       "<table border=\"1\" class=\"dataframe\">\n",
       "  <thead>\n",
       "    <tr style=\"text-align: right;\">\n",
       "      <th></th>\n",
       "      <th>Feature</th>\n",
       "      <th>Mutual Information</th>\n",
       "    </tr>\n",
       "  </thead>\n",
       "  <tbody>\n",
       "    <tr>\n",
       "      <th>389</th>\n",
       "      <td>Completion</td>\n",
       "      <td>0.298580</td>\n",
       "    </tr>\n",
       "    <tr>\n",
       "      <th>390</th>\n",
       "      <td>Drawishness</td>\n",
       "      <td>0.297891</td>\n",
       "    </tr>\n",
       "    <tr>\n",
       "      <th>377</th>\n",
       "      <td>DurationMoves</td>\n",
       "      <td>0.258214</td>\n",
       "    </tr>\n",
       "    <tr>\n",
       "      <th>68</th>\n",
       "      <td>NumCentreSites</td>\n",
       "      <td>0.244361</td>\n",
       "    </tr>\n",
       "    <tr>\n",
       "      <th>84</th>\n",
       "      <td>NumComponentsTypePerPlayer</td>\n",
       "      <td>0.227698</td>\n",
       "    </tr>\n",
       "    <tr>\n",
       "      <th>392</th>\n",
       "      <td>OutcomeUniformity</td>\n",
       "      <td>0.223815</td>\n",
       "    </tr>\n",
       "    <tr>\n",
       "      <th>142</th>\n",
       "      <td>HopDecisionFrequency</td>\n",
       "      <td>0.216059</td>\n",
       "    </tr>\n",
       "    <tr>\n",
       "      <th>376</th>\n",
       "      <td>DurationActions</td>\n",
       "      <td>0.205663</td>\n",
       "    </tr>\n",
       "    <tr>\n",
       "      <th>391</th>\n",
       "      <td>Timeouts</td>\n",
       "      <td>0.189423</td>\n",
       "    </tr>\n",
       "    <tr>\n",
       "      <th>193</th>\n",
       "      <td>RemoveEffectFrequency</td>\n",
       "      <td>0.186527</td>\n",
       "    </tr>\n",
       "  </tbody>\n",
       "</table>\n",
       "</div>"
      ],
      "text/plain": [
       "                        Feature  Mutual Information\n",
       "389                  Completion            0.298580\n",
       "390                 Drawishness            0.297891\n",
       "377               DurationMoves            0.258214\n",
       "68               NumCentreSites            0.244361\n",
       "84   NumComponentsTypePerPlayer            0.227698\n",
       "392           OutcomeUniformity            0.223815\n",
       "142        HopDecisionFrequency            0.216059\n",
       "376             DurationActions            0.205663\n",
       "391                    Timeouts            0.189423\n",
       "193       RemoveEffectFrequency            0.186527"
      ]
     },
     "execution_count": 12,
     "metadata": {},
     "output_type": "execute_result"
    }
   ],
   "source": [
    "mutual_info_num_draws_agent1.head(10)"
   ]
  },
  {
   "cell_type": "markdown",
   "metadata": {},
   "source": [
    "### 2.3- num_losses_agent1"
   ]
  },
  {
   "cell_type": "code",
   "execution_count": 13,
   "metadata": {},
   "outputs": [],
   "source": [
    "mutual_info_num_lossess_agent1 = calculate_mutual_information(X, y3)"
   ]
  },
  {
   "cell_type": "code",
   "execution_count": 14,
   "metadata": {},
   "outputs": [
    {
     "data": {
      "text/html": [
       "<div>\n",
       "<style scoped>\n",
       "    .dataframe tbody tr th:only-of-type {\n",
       "        vertical-align: middle;\n",
       "    }\n",
       "\n",
       "    .dataframe tbody tr th {\n",
       "        vertical-align: top;\n",
       "    }\n",
       "\n",
       "    .dataframe thead th {\n",
       "        text-align: right;\n",
       "    }\n",
       "</style>\n",
       "<table border=\"1\" class=\"dataframe\">\n",
       "  <thead>\n",
       "    <tr style=\"text-align: right;\">\n",
       "      <th></th>\n",
       "      <th>Feature</th>\n",
       "      <th>Mutual Information</th>\n",
       "    </tr>\n",
       "  </thead>\n",
       "  <tbody>\n",
       "    <tr>\n",
       "      <th>441</th>\n",
       "      <td>PieceNumberMaxIncrease</td>\n",
       "      <td>0.00267</td>\n",
       "    </tr>\n",
       "    <tr>\n",
       "      <th>283</th>\n",
       "      <td>BackwardRightDirection</td>\n",
       "      <td>0.00000</td>\n",
       "    </tr>\n",
       "    <tr>\n",
       "      <th>282</th>\n",
       "      <td>ForwardRightDirection</td>\n",
       "      <td>0.00000</td>\n",
       "    </tr>\n",
       "    <tr>\n",
       "      <th>281</th>\n",
       "      <td>LeftwardsDirection</td>\n",
       "      <td>0.00000</td>\n",
       "    </tr>\n",
       "    <tr>\n",
       "      <th>280</th>\n",
       "      <td>LeftwardDirection</td>\n",
       "      <td>0.00000</td>\n",
       "    </tr>\n",
       "    <tr>\n",
       "      <th>279</th>\n",
       "      <td>BackwardsDirection</td>\n",
       "      <td>0.00000</td>\n",
       "    </tr>\n",
       "    <tr>\n",
       "      <th>278</th>\n",
       "      <td>ForwardsDirection</td>\n",
       "      <td>0.00000</td>\n",
       "    </tr>\n",
       "    <tr>\n",
       "      <th>325</th>\n",
       "      <td>NoTargetPieceEndFrequency</td>\n",
       "      <td>0.00000</td>\n",
       "    </tr>\n",
       "    <tr>\n",
       "      <th>324</th>\n",
       "      <td>NoTargetPieceEnd</td>\n",
       "      <td>0.00000</td>\n",
       "    </tr>\n",
       "    <tr>\n",
       "      <th>339</th>\n",
       "      <td>NoOwnPiecesWin</td>\n",
       "      <td>0.00000</td>\n",
       "    </tr>\n",
       "  </tbody>\n",
       "</table>\n",
       "</div>"
      ],
      "text/plain": [
       "                       Feature  Mutual Information\n",
       "441     PieceNumberMaxIncrease             0.00267\n",
       "283     BackwardRightDirection             0.00000\n",
       "282      ForwardRightDirection             0.00000\n",
       "281         LeftwardsDirection             0.00000\n",
       "280          LeftwardDirection             0.00000\n",
       "279         BackwardsDirection             0.00000\n",
       "278          ForwardsDirection             0.00000\n",
       "325  NoTargetPieceEndFrequency             0.00000\n",
       "324           NoTargetPieceEnd             0.00000\n",
       "339             NoOwnPiecesWin             0.00000"
      ]
     },
     "execution_count": 14,
     "metadata": {},
     "output_type": "execute_result"
    }
   ],
   "source": [
    "mutual_info_num_lossess_agent1.head(10)"
   ]
  }
 ],
 "metadata": {
  "kernelspec": {
   "display_name": "Python 3",
   "language": "python",
   "name": "python3"
  },
  "language_info": {
   "codemirror_mode": {
    "name": "ipython",
    "version": 3
   },
   "file_extension": ".py",
   "mimetype": "text/x-python",
   "name": "python",
   "nbconvert_exporter": "python",
   "pygments_lexer": "ipython3",
   "version": "3.10.12"
  }
 },
 "nbformat": 4,
 "nbformat_minor": 2
}
