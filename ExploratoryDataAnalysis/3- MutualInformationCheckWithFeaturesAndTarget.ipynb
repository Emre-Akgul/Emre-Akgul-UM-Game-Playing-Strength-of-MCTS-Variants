{
 "cells": [
  {
   "cell_type": "markdown",
   "metadata": {},
   "source": [
    "# Mutual Information Check With Features and Target"
   ]
  },
  {
   "cell_type": "markdown",
   "metadata": {},
   "source": [
    "## 1- Initial Preprocessing"
   ]
  },
  {
   "cell_type": "code",
   "execution_count": 1,
   "metadata": {},
   "outputs": [],
   "source": [
    "import numpy as np\n",
    "import pandas as pd\n",
    "\n",
    "import sys\n",
    "import os\n",
    "sys.path.append(os.path.abspath('../'))\n",
    "\n",
    "from Models.LinearRegression import LinearRegression\n",
    "from Utils.Preprocessor import Preprocessor\n",
    "from Utils.Utils import root_mean_squared_error, train_test_split, initial_preprocessing"
   ]
  },
  {
   "cell_type": "code",
   "execution_count": 2,
   "metadata": {},
   "outputs": [],
   "source": [
    "# Read the data\n",
    "train = pd.read_csv('../Data/train.csv', index_col='Id')"
   ]
  },
  {
   "cell_type": "code",
   "execution_count": 3,
   "metadata": {},
   "outputs": [],
   "source": [
    "# Remove unnecessary features based on exploratory data analysis part 1.\n",
    "train = initial_preprocessing(train)"
   ]
  },
  {
   "cell_type": "code",
   "execution_count": 4,
   "metadata": {},
   "outputs": [],
   "source": [
    "X = train.drop(columns=[\"num_wins_agent1\", \"num_draws_agent1\", \"num_losses_agent1\", \"utility_agent1\"], axis=1)\n",
    "y = train[\"utility_agent1\"]\n",
    "y1 = train[\"num_wins_agent1\"]\n",
    "y2 = train[\"num_draws_agent1\"]\n",
    "y3 = train[\"num_losses_agent1\"]"
   ]
  },
  {
   "cell_type": "code",
   "execution_count": 5,
   "metadata": {},
   "outputs": [],
   "source": [
    "# Preprocess the data\n",
    "preprocessor = Preprocessor(normalize=True, one_hot_encode=True)\n",
    "\n",
    "X = preprocessor.fit_transform(X)\n",
    "\n",
    "# Convert back to pandas dataframe\n",
    "X = pd.DataFrame(X, columns=preprocessor.get_column_names())"
   ]
  },
  {
   "cell_type": "markdown",
   "metadata": {},
   "source": [
    "## 2- Mutual Information Check with Target"
   ]
  },
  {
   "cell_type": "markdown",
   "metadata": {},
   "source": [
    "### 2.1- utility_agent1"
   ]
  },
  {
   "cell_type": "code",
   "execution_count": 6,
   "metadata": {},
   "outputs": [],
   "source": [
    "def calculate_mutual_information(X, y):\n",
    "    # taken the formula from internet dont know if works.\n",
    "    from collections import Counter\n",
    "    \n",
    "    def entropy(values):\n",
    "        \"\"\"Calculate the entropy of a dataset.\"\"\"\n",
    "        total = len(values)\n",
    "        counts = Counter(values)\n",
    "        probabilities = np.array([count / total for count in counts.values()])\n",
    "        return -np.sum(probabilities * np.log2(probabilities + 1e-9))\n",
    "\n",
    "    def conditional_entropy(feature, target):\n",
    "        \"\"\"Calculate the conditional entropy of target given feature.\"\"\"\n",
    "        total = len(feature)\n",
    "        unique_values = np.unique(feature)\n",
    "        cond_entropy = 0\n",
    "        for value in unique_values:\n",
    "            indices = np.where(feature == value)[0]\n",
    "            subset = target[indices]\n",
    "            cond_entropy += len(subset) / total * entropy(subset)\n",
    "        return cond_entropy\n",
    "\n",
    "    # Drop categorical columns\n",
    "    X = X.drop(columns=X.select_dtypes(include=['category']).columns, axis=1)\n",
    "    \n",
    "    # Store column names for later data frame creation\n",
    "    colnames = X.columns\n",
    "    \n",
    "    # Convert to numpy arrays\n",
    "    X = X.values\n",
    "    y = y.values if isinstance(y, pd.Series) else y\n",
    "    \n",
    "    # Calculate mutual information for each feature\n",
    "    mutual_info = []\n",
    "    for i in range(X.shape[1]):\n",
    "        feature = X[:, i]\n",
    "        feature_entropy = entropy(feature)\n",
    "        target_entropy = entropy(y)\n",
    "        cond_entropy = conditional_entropy(feature, y)\n",
    "        mi = target_entropy - cond_entropy\n",
    "        mutual_info.append(mi)\n",
    "    \n",
    "    # Create a DataFrame with results\n",
    "    mutual_info_df = pd.DataFrame({\n",
    "        \"Feature\": colnames,\n",
    "        \"Mutual Information\": mutual_info\n",
    "    }).sort_values(by=\"Mutual Information\", ascending=False)\n",
    "    \n",
    "    return mutual_info_df"
   ]
  },
  {
   "cell_type": "code",
   "execution_count": 7,
   "metadata": {},
   "outputs": [],
   "source": [
    "mutual_info_utility_agent1 = calculate_mutual_information(X, y)"
   ]
  },
  {
   "cell_type": "code",
   "execution_count": 8,
   "metadata": {},
   "outputs": [
    {
     "data": {
      "text/html": [
       "<div>\n",
       "<style scoped>\n",
       "    .dataframe tbody tr th:only-of-type {\n",
       "        vertical-align: middle;\n",
       "    }\n",
       "\n",
       "    .dataframe tbody tr th {\n",
       "        vertical-align: top;\n",
       "    }\n",
       "\n",
       "    .dataframe thead th {\n",
       "        text-align: right;\n",
       "    }\n",
       "</style>\n",
       "<table border=\"1\" class=\"dataframe\">\n",
       "  <thead>\n",
       "    <tr style=\"text-align: right;\">\n",
       "      <th></th>\n",
       "      <th>Feature</th>\n",
       "      <th>Mutual Information</th>\n",
       "    </tr>\n",
       "  </thead>\n",
       "  <tbody>\n",
       "    <tr>\n",
       "      <th>549</th>\n",
       "      <td>MovesPerSecond</td>\n",
       "      <td>1.283681</td>\n",
       "    </tr>\n",
       "    <tr>\n",
       "      <th>548</th>\n",
       "      <td>PlayoutsPerSecond</td>\n",
       "      <td>1.280695</td>\n",
       "    </tr>\n",
       "    <tr>\n",
       "      <th>376</th>\n",
       "      <td>DurationActions</td>\n",
       "      <td>1.273614</td>\n",
       "    </tr>\n",
       "    <tr>\n",
       "      <th>377</th>\n",
       "      <td>DurationMoves</td>\n",
       "      <td>1.263127</td>\n",
       "    </tr>\n",
       "    <tr>\n",
       "      <th>382</th>\n",
       "      <td>GameTreeComplexity</td>\n",
       "      <td>1.262383</td>\n",
       "    </tr>\n",
       "    <tr>\n",
       "      <th>378</th>\n",
       "      <td>DurationTurns</td>\n",
       "      <td>1.252940</td>\n",
       "    </tr>\n",
       "    <tr>\n",
       "      <th>380</th>\n",
       "      <td>DurationTurnsNotTimeouts</td>\n",
       "      <td>1.246248</td>\n",
       "    </tr>\n",
       "    <tr>\n",
       "      <th>379</th>\n",
       "      <td>DurationTurnsStdDev</td>\n",
       "      <td>1.182272</td>\n",
       "    </tr>\n",
       "    <tr>\n",
       "      <th>406</th>\n",
       "      <td>BranchingFactorVariance</td>\n",
       "      <td>1.117977</td>\n",
       "    </tr>\n",
       "    <tr>\n",
       "      <th>416</th>\n",
       "      <td>DecisionFactorVariance</td>\n",
       "      <td>1.091581</td>\n",
       "    </tr>\n",
       "  </tbody>\n",
       "</table>\n",
       "</div>"
      ],
      "text/plain": [
       "                      Feature  Mutual Information\n",
       "549            MovesPerSecond            1.283681\n",
       "548         PlayoutsPerSecond            1.280695\n",
       "376           DurationActions            1.273614\n",
       "377             DurationMoves            1.263127\n",
       "382        GameTreeComplexity            1.262383\n",
       "378             DurationTurns            1.252940\n",
       "380  DurationTurnsNotTimeouts            1.246248\n",
       "379       DurationTurnsStdDev            1.182272\n",
       "406   BranchingFactorVariance            1.117977\n",
       "416    DecisionFactorVariance            1.091581"
      ]
     },
     "execution_count": 8,
     "metadata": {},
     "output_type": "execute_result"
    }
   ],
   "source": [
    "mutual_info_utility_agent1.head(10)"
   ]
  },
  {
   "cell_type": "markdown",
   "metadata": {},
   "source": [
    "### 2.1- num_wins_agent1"
   ]
  },
  {
   "cell_type": "code",
   "execution_count": 9,
   "metadata": {},
   "outputs": [],
   "source": [
    "mutual_info_num_wins_agent1 = calculate_mutual_information(X, y1)"
   ]
  },
  {
   "cell_type": "code",
   "execution_count": 10,
   "metadata": {},
   "outputs": [
    {
     "data": {
      "text/html": [
       "<div>\n",
       "<style scoped>\n",
       "    .dataframe tbody tr th:only-of-type {\n",
       "        vertical-align: middle;\n",
       "    }\n",
       "\n",
       "    .dataframe tbody tr th {\n",
       "        vertical-align: top;\n",
       "    }\n",
       "\n",
       "    .dataframe thead th {\n",
       "        text-align: right;\n",
       "    }\n",
       "</style>\n",
       "<table border=\"1\" class=\"dataframe\">\n",
       "  <thead>\n",
       "    <tr style=\"text-align: right;\">\n",
       "      <th></th>\n",
       "      <th>Feature</th>\n",
       "      <th>Mutual Information</th>\n",
       "    </tr>\n",
       "  </thead>\n",
       "  <tbody>\n",
       "    <tr>\n",
       "      <th>549</th>\n",
       "      <td>MovesPerSecond</td>\n",
       "      <td>0.986466</td>\n",
       "    </tr>\n",
       "    <tr>\n",
       "      <th>548</th>\n",
       "      <td>PlayoutsPerSecond</td>\n",
       "      <td>0.983382</td>\n",
       "    </tr>\n",
       "    <tr>\n",
       "      <th>376</th>\n",
       "      <td>DurationActions</td>\n",
       "      <td>0.978639</td>\n",
       "    </tr>\n",
       "    <tr>\n",
       "      <th>377</th>\n",
       "      <td>DurationMoves</td>\n",
       "      <td>0.970353</td>\n",
       "    </tr>\n",
       "    <tr>\n",
       "      <th>382</th>\n",
       "      <td>GameTreeComplexity</td>\n",
       "      <td>0.968839</td>\n",
       "    </tr>\n",
       "    <tr>\n",
       "      <th>378</th>\n",
       "      <td>DurationTurns</td>\n",
       "      <td>0.961348</td>\n",
       "    </tr>\n",
       "    <tr>\n",
       "      <th>380</th>\n",
       "      <td>DurationTurnsNotTimeouts</td>\n",
       "      <td>0.956689</td>\n",
       "    </tr>\n",
       "    <tr>\n",
       "      <th>379</th>\n",
       "      <td>DurationTurnsStdDev</td>\n",
       "      <td>0.908221</td>\n",
       "    </tr>\n",
       "    <tr>\n",
       "      <th>406</th>\n",
       "      <td>BranchingFactorVariance</td>\n",
       "      <td>0.850977</td>\n",
       "    </tr>\n",
       "    <tr>\n",
       "      <th>416</th>\n",
       "      <td>DecisionFactorVariance</td>\n",
       "      <td>0.836046</td>\n",
       "    </tr>\n",
       "  </tbody>\n",
       "</table>\n",
       "</div>"
      ],
      "text/plain": [
       "                      Feature  Mutual Information\n",
       "549            MovesPerSecond            0.986466\n",
       "548         PlayoutsPerSecond            0.983382\n",
       "376           DurationActions            0.978639\n",
       "377             DurationMoves            0.970353\n",
       "382        GameTreeComplexity            0.968839\n",
       "378             DurationTurns            0.961348\n",
       "380  DurationTurnsNotTimeouts            0.956689\n",
       "379       DurationTurnsStdDev            0.908221\n",
       "406   BranchingFactorVariance            0.850977\n",
       "416    DecisionFactorVariance            0.836046"
      ]
     },
     "execution_count": 10,
     "metadata": {},
     "output_type": "execute_result"
    }
   ],
   "source": [
    "mutual_info_num_wins_agent1.head(10)"
   ]
  },
  {
   "cell_type": "markdown",
   "metadata": {},
   "source": [
    "### 2.2- num_draws_agent1"
   ]
  },
  {
   "cell_type": "code",
   "execution_count": 11,
   "metadata": {},
   "outputs": [],
   "source": [
    "mutual_info_num_draws_agent1 = calculate_mutual_information(X, y2)"
   ]
  },
  {
   "cell_type": "code",
   "execution_count": 12,
   "metadata": {},
   "outputs": [
    {
     "data": {
      "text/html": [
       "<div>\n",
       "<style scoped>\n",
       "    .dataframe tbody tr th:only-of-type {\n",
       "        vertical-align: middle;\n",
       "    }\n",
       "\n",
       "    .dataframe tbody tr th {\n",
       "        vertical-align: top;\n",
       "    }\n",
       "\n",
       "    .dataframe thead th {\n",
       "        text-align: right;\n",
       "    }\n",
       "</style>\n",
       "<table border=\"1\" class=\"dataframe\">\n",
       "  <thead>\n",
       "    <tr style=\"text-align: right;\">\n",
       "      <th></th>\n",
       "      <th>Feature</th>\n",
       "      <th>Mutual Information</th>\n",
       "    </tr>\n",
       "  </thead>\n",
       "  <tbody>\n",
       "    <tr>\n",
       "      <th>549</th>\n",
       "      <td>MovesPerSecond</td>\n",
       "      <td>1.041842</td>\n",
       "    </tr>\n",
       "    <tr>\n",
       "      <th>548</th>\n",
       "      <td>PlayoutsPerSecond</td>\n",
       "      <td>1.037821</td>\n",
       "    </tr>\n",
       "    <tr>\n",
       "      <th>376</th>\n",
       "      <td>DurationActions</td>\n",
       "      <td>1.036927</td>\n",
       "    </tr>\n",
       "    <tr>\n",
       "      <th>382</th>\n",
       "      <td>GameTreeComplexity</td>\n",
       "      <td>1.028330</td>\n",
       "    </tr>\n",
       "    <tr>\n",
       "      <th>377</th>\n",
       "      <td>DurationMoves</td>\n",
       "      <td>1.027954</td>\n",
       "    </tr>\n",
       "    <tr>\n",
       "      <th>378</th>\n",
       "      <td>DurationTurns</td>\n",
       "      <td>1.019944</td>\n",
       "    </tr>\n",
       "    <tr>\n",
       "      <th>380</th>\n",
       "      <td>DurationTurnsNotTimeouts</td>\n",
       "      <td>1.010021</td>\n",
       "    </tr>\n",
       "    <tr>\n",
       "      <th>379</th>\n",
       "      <td>DurationTurnsStdDev</td>\n",
       "      <td>0.963085</td>\n",
       "    </tr>\n",
       "    <tr>\n",
       "      <th>406</th>\n",
       "      <td>BranchingFactorVariance</td>\n",
       "      <td>0.914733</td>\n",
       "    </tr>\n",
       "    <tr>\n",
       "      <th>416</th>\n",
       "      <td>DecisionFactorVariance</td>\n",
       "      <td>0.906778</td>\n",
       "    </tr>\n",
       "  </tbody>\n",
       "</table>\n",
       "</div>"
      ],
      "text/plain": [
       "                      Feature  Mutual Information\n",
       "549            MovesPerSecond            1.041842\n",
       "548         PlayoutsPerSecond            1.037821\n",
       "376           DurationActions            1.036927\n",
       "382        GameTreeComplexity            1.028330\n",
       "377             DurationMoves            1.027954\n",
       "378             DurationTurns            1.019944\n",
       "380  DurationTurnsNotTimeouts            1.010021\n",
       "379       DurationTurnsStdDev            0.963085\n",
       "406   BranchingFactorVariance            0.914733\n",
       "416    DecisionFactorVariance            0.906778"
      ]
     },
     "execution_count": 12,
     "metadata": {},
     "output_type": "execute_result"
    }
   ],
   "source": [
    "mutual_info_num_draws_agent1.head(10)"
   ]
  },
  {
   "cell_type": "markdown",
   "metadata": {},
   "source": [
    "### 2.3- num_losses_agent1"
   ]
  },
  {
   "cell_type": "code",
   "execution_count": 13,
   "metadata": {},
   "outputs": [],
   "source": [
    "mutual_info_num_lossess_agent1 = calculate_mutual_information(X, y3)"
   ]
  },
  {
   "cell_type": "code",
   "execution_count": 14,
   "metadata": {},
   "outputs": [
    {
     "data": {
      "text/html": [
       "<div>\n",
       "<style scoped>\n",
       "    .dataframe tbody tr th:only-of-type {\n",
       "        vertical-align: middle;\n",
       "    }\n",
       "\n",
       "    .dataframe tbody tr th {\n",
       "        vertical-align: top;\n",
       "    }\n",
       "\n",
       "    .dataframe thead th {\n",
       "        text-align: right;\n",
       "    }\n",
       "</style>\n",
       "<table border=\"1\" class=\"dataframe\">\n",
       "  <thead>\n",
       "    <tr style=\"text-align: right;\">\n",
       "      <th></th>\n",
       "      <th>Feature</th>\n",
       "      <th>Mutual Information</th>\n",
       "    </tr>\n",
       "  </thead>\n",
       "  <tbody>\n",
       "    <tr>\n",
       "      <th>549</th>\n",
       "      <td>MovesPerSecond</td>\n",
       "      <td>0.982406</td>\n",
       "    </tr>\n",
       "    <tr>\n",
       "      <th>548</th>\n",
       "      <td>PlayoutsPerSecond</td>\n",
       "      <td>0.979751</td>\n",
       "    </tr>\n",
       "    <tr>\n",
       "      <th>376</th>\n",
       "      <td>DurationActions</td>\n",
       "      <td>0.973548</td>\n",
       "    </tr>\n",
       "    <tr>\n",
       "      <th>377</th>\n",
       "      <td>DurationMoves</td>\n",
       "      <td>0.967428</td>\n",
       "    </tr>\n",
       "    <tr>\n",
       "      <th>382</th>\n",
       "      <td>GameTreeComplexity</td>\n",
       "      <td>0.964320</td>\n",
       "    </tr>\n",
       "    <tr>\n",
       "      <th>378</th>\n",
       "      <td>DurationTurns</td>\n",
       "      <td>0.962127</td>\n",
       "    </tr>\n",
       "    <tr>\n",
       "      <th>380</th>\n",
       "      <td>DurationTurnsNotTimeouts</td>\n",
       "      <td>0.957681</td>\n",
       "    </tr>\n",
       "    <tr>\n",
       "      <th>379</th>\n",
       "      <td>DurationTurnsStdDev</td>\n",
       "      <td>0.912563</td>\n",
       "    </tr>\n",
       "    <tr>\n",
       "      <th>406</th>\n",
       "      <td>BranchingFactorVariance</td>\n",
       "      <td>0.843829</td>\n",
       "    </tr>\n",
       "    <tr>\n",
       "      <th>416</th>\n",
       "      <td>DecisionFactorVariance</td>\n",
       "      <td>0.826475</td>\n",
       "    </tr>\n",
       "  </tbody>\n",
       "</table>\n",
       "</div>"
      ],
      "text/plain": [
       "                      Feature  Mutual Information\n",
       "549            MovesPerSecond            0.982406\n",
       "548         PlayoutsPerSecond            0.979751\n",
       "376           DurationActions            0.973548\n",
       "377             DurationMoves            0.967428\n",
       "382        GameTreeComplexity            0.964320\n",
       "378             DurationTurns            0.962127\n",
       "380  DurationTurnsNotTimeouts            0.957681\n",
       "379       DurationTurnsStdDev            0.912563\n",
       "406   BranchingFactorVariance            0.843829\n",
       "416    DecisionFactorVariance            0.826475"
      ]
     },
     "execution_count": 14,
     "metadata": {},
     "output_type": "execute_result"
    }
   ],
   "source": [
    "mutual_info_num_lossess_agent1.head(10)"
   ]
  }
 ],
 "metadata": {
  "kernelspec": {
   "display_name": "Python 3",
   "language": "python",
   "name": "python3"
  },
  "language_info": {
   "codemirror_mode": {
    "name": "ipython",
    "version": 3
   },
   "file_extension": ".py",
   "mimetype": "text/x-python",
   "name": "python",
   "nbconvert_exporter": "python",
   "pygments_lexer": "ipython3",
   "version": "3.10.12"
  }
 },
 "nbformat": 4,
 "nbformat_minor": 2
}
