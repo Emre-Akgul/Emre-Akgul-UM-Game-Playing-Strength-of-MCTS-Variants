{
 "cells": [
  {
   "cell_type": "markdown",
   "metadata": {},
   "source": [
    "# Mutual Information Check With Features and Target"
   ]
  },
  {
   "cell_type": "markdown",
   "metadata": {},
   "source": [
    "## 1- Initial Preprocessing"
   ]
  },
  {
   "cell_type": "code",
   "execution_count": 1,
   "metadata": {},
   "outputs": [],
   "source": [
    "import numpy as np\n",
    "import pandas as pd\n",
    "\n",
    "import sys\n",
    "import os\n",
    "sys.path.append(os.path.abspath('../'))\n",
    "\n",
    "from Models.LinearRegression import LinearRegression\n",
    "from Utils.Preprocessor import Preprocessor\n",
    "from Utils.Utils import root_mean_squared_error, train_test_split, initial_preprocessing"
   ]
  },
  {
   "cell_type": "code",
   "execution_count": 2,
   "metadata": {},
   "outputs": [],
   "source": [
    "# Read the data\n",
    "train = pd.read_csv('../Data/train.csv', index_col='Id')"
   ]
  },
  {
   "cell_type": "code",
   "execution_count": 3,
   "metadata": {},
   "outputs": [],
   "source": [
    "# Remove unnecessary features based on exploratory data analysis part 1.\n",
    "train = initial_preprocessing(train)"
   ]
  },
  {
   "cell_type": "code",
   "execution_count": 4,
   "metadata": {},
   "outputs": [],
   "source": [
    "X = train.drop(columns=[\"num_wins_agent1\", \"num_draws_agent1\", \"num_losses_agent1\", \"utility_agent1\"], axis=1)\n",
    "y = train[\"utility_agent1\"]\n",
    "y1 = train[\"num_wins_agent1\"]\n",
    "y2 = train[\"num_draws_agent1\"]\n",
    "y3 = train[\"num_losses_agent1\"]"
   ]
  },
  {
   "cell_type": "code",
   "execution_count": 5,
   "metadata": {},
   "outputs": [],
   "source": [
    "# Preprocess the data\n",
    "preprocessor = Preprocessor(normalize=True, one_hot_encode=True)\n",
    "\n",
    "X = preprocessor.fit_transform(X)\n",
    "\n",
    "# Convert back to pandas dataframe\n",
    "X = pd.DataFrame(X, columns=preprocessor.get_column_names())"
   ]
  },
  {
   "cell_type": "markdown",
   "metadata": {},
   "source": [
    "## 2- Mutual Information Check with Target"
   ]
  },
  {
   "cell_type": "markdown",
   "metadata": {},
   "source": [
    "### 2.1- utility_agent1"
   ]
  },
  {
   "cell_type": "code",
   "execution_count": 6,
   "metadata": {},
   "outputs": [],
   "source": [
    "import numpy as np\n",
    "import pandas as pd\n",
    "from collections import Counter\n",
    "\n",
    "def calculate_mutual_information(X, y):\n",
    "    def entropy(values):\n",
    "        \"\"\"Calculate the entropy of a dataset.\"\"\"\n",
    "        # For continuous variables, use binning\n",
    "        if values.dtype.kind in ['f', 'i']:\n",
    "            values = pd.qcut(values, q=20, labels=False, duplicates='drop')\n",
    "        \n",
    "        total = len(values)\n",
    "        counts = Counter(values)\n",
    "        probabilities = np.array([count / total for count in counts.values()])\n",
    "        return -np.sum(probabilities * np.log2(probabilities + 1e-10))\n",
    "    \n",
    "    def conditional_entropy(feature, target):\n",
    "        \"\"\"Calculate the conditional entropy of target given feature.\"\"\"\n",
    "        if feature.dtype.kind in ['f', 'i']:\n",
    "            feature = pd.qcut(feature, q=20, labels=False, duplicates='drop')\n",
    "            \n",
    "        total = len(feature)\n",
    "        unique_values = np.unique(feature)\n",
    "        cond_entropy = 0\n",
    "        \n",
    "        for value in unique_values:\n",
    "            indices = np.where(feature == value)[0]\n",
    "            subset = target[indices]\n",
    "            prob = len(indices) / total\n",
    "            cond_entropy += prob * entropy(subset)\n",
    "            \n",
    "        return cond_entropy\n",
    "    \n",
    "    # Input validation\n",
    "    if not isinstance(X, pd.DataFrame):\n",
    "        raise TypeError(\"X must be a pandas DataFrame\")\n",
    "    if not isinstance(y, (pd.Series, np.ndarray)):\n",
    "        raise TypeError(\"y must be a pandas Series or numpy array\")\n",
    "    if len(X) != len(y):\n",
    "        raise ValueError(\"X and y must have the same number of samples\")\n",
    "        \n",
    "    # Drop categorical columns and store column names\n",
    "    numeric_X = X.select_dtypes(include=['int64', 'float64'])\n",
    "    colnames = numeric_X.columns\n",
    "    \n",
    "    # Convert to numpy arrays\n",
    "    X_values = numeric_X.values\n",
    "    y_values = y.values if isinstance(y, pd.Series) else y\n",
    "    \n",
    "    # Calculate mutual information for each feature\n",
    "    mutual_info = []\n",
    "    target_entropy = entropy(y_values)\n",
    "    \n",
    "    for i in range(X_values.shape[1]):\n",
    "        feature = X_values[:, i]\n",
    "        cond_entropy = conditional_entropy(feature, y_values)\n",
    "        mi = target_entropy - cond_entropy\n",
    "        mutual_info.append(mi)\n",
    "    \n",
    "    # Create a DataFrame with results\n",
    "    mutual_info_df = pd.DataFrame({\n",
    "        \"Feature\": colnames,\n",
    "        \"Mutual Information\": mutual_info\n",
    "    }).sort_values(by=\"Mutual Information\", ascending=False)\n",
    "    \n",
    "    return mutual_info_df"
   ]
  },
  {
   "cell_type": "code",
   "execution_count": 7,
   "metadata": {},
   "outputs": [],
   "source": [
    "mutual_info_utility_agent1 = calculate_mutual_information(X, y)"
   ]
  },
  {
   "cell_type": "code",
   "execution_count": 8,
   "metadata": {},
   "outputs": [
    {
     "data": {
      "text/html": [
       "<div>\n",
       "<style scoped>\n",
       "    .dataframe tbody tr th:only-of-type {\n",
       "        vertical-align: middle;\n",
       "    }\n",
       "\n",
       "    .dataframe tbody tr th {\n",
       "        vertical-align: top;\n",
       "    }\n",
       "\n",
       "    .dataframe thead th {\n",
       "        text-align: right;\n",
       "    }\n",
       "</style>\n",
       "<table border=\"1\" class=\"dataframe\">\n",
       "  <thead>\n",
       "    <tr style=\"text-align: right;\">\n",
       "      <th></th>\n",
       "      <th>Feature</th>\n",
       "      <th>Mutual Information</th>\n",
       "    </tr>\n",
       "  </thead>\n",
       "  <tbody>\n",
       "    <tr>\n",
       "      <th>387</th>\n",
       "      <td>AdvantageP1</td>\n",
       "      <td>0.236968</td>\n",
       "    </tr>\n",
       "    <tr>\n",
       "      <th>388</th>\n",
       "      <td>Balance</td>\n",
       "      <td>0.229491</td>\n",
       "    </tr>\n",
       "    <tr>\n",
       "      <th>390</th>\n",
       "      <td>Drawishness</td>\n",
       "      <td>0.159779</td>\n",
       "    </tr>\n",
       "    <tr>\n",
       "      <th>389</th>\n",
       "      <td>Completion</td>\n",
       "      <td>0.135249</td>\n",
       "    </tr>\n",
       "    <tr>\n",
       "      <th>53</th>\n",
       "      <td>NumDirections</td>\n",
       "      <td>0.104664</td>\n",
       "    </tr>\n",
       "    <tr>\n",
       "      <th>377</th>\n",
       "      <td>DurationMoves</td>\n",
       "      <td>0.093722</td>\n",
       "    </tr>\n",
       "    <tr>\n",
       "      <th>62</th>\n",
       "      <td>NumVertices</td>\n",
       "      <td>0.091477</td>\n",
       "    </tr>\n",
       "    <tr>\n",
       "      <th>391</th>\n",
       "      <td>Timeouts</td>\n",
       "      <td>0.090111</td>\n",
       "    </tr>\n",
       "    <tr>\n",
       "      <th>392</th>\n",
       "      <td>OutcomeUniformity</td>\n",
       "      <td>0.087115</td>\n",
       "    </tr>\n",
       "    <tr>\n",
       "      <th>382</th>\n",
       "      <td>GameTreeComplexity</td>\n",
       "      <td>0.085692</td>\n",
       "    </tr>\n",
       "  </tbody>\n",
       "</table>\n",
       "</div>"
      ],
      "text/plain": [
       "                Feature  Mutual Information\n",
       "387         AdvantageP1            0.236968\n",
       "388             Balance            0.229491\n",
       "390         Drawishness            0.159779\n",
       "389          Completion            0.135249\n",
       "53        NumDirections            0.104664\n",
       "377       DurationMoves            0.093722\n",
       "62          NumVertices            0.091477\n",
       "391            Timeouts            0.090111\n",
       "392   OutcomeUniformity            0.087115\n",
       "382  GameTreeComplexity            0.085692"
      ]
     },
     "execution_count": 8,
     "metadata": {},
     "output_type": "execute_result"
    }
   ],
   "source": [
    "mutual_info_utility_agent1.head(10)"
   ]
  },
  {
   "cell_type": "markdown",
   "metadata": {},
   "source": [
    "### 2.1- num_wins_agent1"
   ]
  },
  {
   "cell_type": "code",
   "execution_count": 9,
   "metadata": {},
   "outputs": [],
   "source": [
    "mutual_info_num_wins_agent1 = calculate_mutual_information(X, y1)"
   ]
  },
  {
   "cell_type": "code",
   "execution_count": 10,
   "metadata": {},
   "outputs": [
    {
     "data": {
      "text/html": [
       "<div>\n",
       "<style scoped>\n",
       "    .dataframe tbody tr th:only-of-type {\n",
       "        vertical-align: middle;\n",
       "    }\n",
       "\n",
       "    .dataframe tbody tr th {\n",
       "        vertical-align: top;\n",
       "    }\n",
       "\n",
       "    .dataframe thead th {\n",
       "        text-align: right;\n",
       "    }\n",
       "</style>\n",
       "<table border=\"1\" class=\"dataframe\">\n",
       "  <thead>\n",
       "    <tr style=\"text-align: right;\">\n",
       "      <th></th>\n",
       "      <th>Feature</th>\n",
       "      <th>Mutual Information</th>\n",
       "    </tr>\n",
       "  </thead>\n",
       "  <tbody>\n",
       "    <tr>\n",
       "      <th>387</th>\n",
       "      <td>AdvantageP1</td>\n",
       "      <td>0.228046</td>\n",
       "    </tr>\n",
       "    <tr>\n",
       "      <th>388</th>\n",
       "      <td>Balance</td>\n",
       "      <td>0.204862</td>\n",
       "    </tr>\n",
       "    <tr>\n",
       "      <th>120</th>\n",
       "      <td>StepDecisionFrequency</td>\n",
       "      <td>0.181651</td>\n",
       "    </tr>\n",
       "    <tr>\n",
       "      <th>122</th>\n",
       "      <td>StepDecisionToEmptyFrequency</td>\n",
       "      <td>0.173052</td>\n",
       "    </tr>\n",
       "    <tr>\n",
       "      <th>391</th>\n",
       "      <td>Timeouts</td>\n",
       "      <td>0.157918</td>\n",
       "    </tr>\n",
       "    <tr>\n",
       "      <th>425</th>\n",
       "      <td>MoveDistanceMaximum</td>\n",
       "      <td>0.156529</td>\n",
       "    </tr>\n",
       "    <tr>\n",
       "      <th>49</th>\n",
       "      <td>NumPlayableSitesOnBoard</td>\n",
       "      <td>0.155699</td>\n",
       "    </tr>\n",
       "    <tr>\n",
       "      <th>435</th>\n",
       "      <td>PieceNumberMaximum</td>\n",
       "      <td>0.154638</td>\n",
       "    </tr>\n",
       "    <tr>\n",
       "      <th>549</th>\n",
       "      <td>MovesPerSecond</td>\n",
       "      <td>0.152408</td>\n",
       "    </tr>\n",
       "    <tr>\n",
       "      <th>62</th>\n",
       "      <td>NumVertices</td>\n",
       "      <td>0.146846</td>\n",
       "    </tr>\n",
       "  </tbody>\n",
       "</table>\n",
       "</div>"
      ],
      "text/plain": [
       "                          Feature  Mutual Information\n",
       "387                   AdvantageP1            0.228046\n",
       "388                       Balance            0.204862\n",
       "120         StepDecisionFrequency            0.181651\n",
       "122  StepDecisionToEmptyFrequency            0.173052\n",
       "391                      Timeouts            0.157918\n",
       "425           MoveDistanceMaximum            0.156529\n",
       "49        NumPlayableSitesOnBoard            0.155699\n",
       "435            PieceNumberMaximum            0.154638\n",
       "549                MovesPerSecond            0.152408\n",
       "62                    NumVertices            0.146846"
      ]
     },
     "execution_count": 10,
     "metadata": {},
     "output_type": "execute_result"
    }
   ],
   "source": [
    "mutual_info_num_wins_agent1.head(10)"
   ]
  },
  {
   "cell_type": "markdown",
   "metadata": {},
   "source": [
    "### 2.2- num_draws_agent1"
   ]
  },
  {
   "cell_type": "code",
   "execution_count": 11,
   "metadata": {},
   "outputs": [],
   "source": [
    "mutual_info_num_draws_agent1 = calculate_mutual_information(X, y2)"
   ]
  },
  {
   "cell_type": "code",
   "execution_count": 12,
   "metadata": {},
   "outputs": [
    {
     "data": {
      "text/html": [
       "<div>\n",
       "<style scoped>\n",
       "    .dataframe tbody tr th:only-of-type {\n",
       "        vertical-align: middle;\n",
       "    }\n",
       "\n",
       "    .dataframe tbody tr th {\n",
       "        vertical-align: top;\n",
       "    }\n",
       "\n",
       "    .dataframe thead th {\n",
       "        text-align: right;\n",
       "    }\n",
       "</style>\n",
       "<table border=\"1\" class=\"dataframe\">\n",
       "  <thead>\n",
       "    <tr style=\"text-align: right;\">\n",
       "      <th></th>\n",
       "      <th>Feature</th>\n",
       "      <th>Mutual Information</th>\n",
       "    </tr>\n",
       "  </thead>\n",
       "  <tbody>\n",
       "    <tr>\n",
       "      <th>390</th>\n",
       "      <td>Drawishness</td>\n",
       "      <td>0.254014</td>\n",
       "    </tr>\n",
       "    <tr>\n",
       "      <th>389</th>\n",
       "      <td>Completion</td>\n",
       "      <td>0.247993</td>\n",
       "    </tr>\n",
       "    <tr>\n",
       "      <th>378</th>\n",
       "      <td>DurationTurns</td>\n",
       "      <td>0.197171</td>\n",
       "    </tr>\n",
       "    <tr>\n",
       "      <th>377</th>\n",
       "      <td>DurationMoves</td>\n",
       "      <td>0.192472</td>\n",
       "    </tr>\n",
       "    <tr>\n",
       "      <th>388</th>\n",
       "      <td>Balance</td>\n",
       "      <td>0.178688</td>\n",
       "    </tr>\n",
       "    <tr>\n",
       "      <th>391</th>\n",
       "      <td>Timeouts</td>\n",
       "      <td>0.169072</td>\n",
       "    </tr>\n",
       "    <tr>\n",
       "      <th>382</th>\n",
       "      <td>GameTreeComplexity</td>\n",
       "      <td>0.133907</td>\n",
       "    </tr>\n",
       "    <tr>\n",
       "      <th>376</th>\n",
       "      <td>DurationActions</td>\n",
       "      <td>0.123147</td>\n",
       "    </tr>\n",
       "    <tr>\n",
       "      <th>392</th>\n",
       "      <td>OutcomeUniformity</td>\n",
       "      <td>0.121789</td>\n",
       "    </tr>\n",
       "    <tr>\n",
       "      <th>379</th>\n",
       "      <td>DurationTurnsStdDev</td>\n",
       "      <td>0.118890</td>\n",
       "    </tr>\n",
       "  </tbody>\n",
       "</table>\n",
       "</div>"
      ],
      "text/plain": [
       "                 Feature  Mutual Information\n",
       "390          Drawishness            0.254014\n",
       "389           Completion            0.247993\n",
       "378        DurationTurns            0.197171\n",
       "377        DurationMoves            0.192472\n",
       "388              Balance            0.178688\n",
       "391             Timeouts            0.169072\n",
       "382   GameTreeComplexity            0.133907\n",
       "376      DurationActions            0.123147\n",
       "392    OutcomeUniformity            0.121789\n",
       "379  DurationTurnsStdDev            0.118890"
      ]
     },
     "execution_count": 12,
     "metadata": {},
     "output_type": "execute_result"
    }
   ],
   "source": [
    "mutual_info_num_draws_agent1.head(10)"
   ]
  },
  {
   "cell_type": "markdown",
   "metadata": {},
   "source": [
    "### 2.3- num_losses_agent1"
   ]
  },
  {
   "cell_type": "code",
   "execution_count": 13,
   "metadata": {},
   "outputs": [],
   "source": [
    "mutual_info_num_lossess_agent1 = calculate_mutual_information(X, y3)"
   ]
  },
  {
   "cell_type": "code",
   "execution_count": 14,
   "metadata": {},
   "outputs": [
    {
     "data": {
      "text/html": [
       "<div>\n",
       "<style scoped>\n",
       "    .dataframe tbody tr th:only-of-type {\n",
       "        vertical-align: middle;\n",
       "    }\n",
       "\n",
       "    .dataframe tbody tr th {\n",
       "        vertical-align: top;\n",
       "    }\n",
       "\n",
       "    .dataframe thead th {\n",
       "        text-align: right;\n",
       "    }\n",
       "</style>\n",
       "<table border=\"1\" class=\"dataframe\">\n",
       "  <thead>\n",
       "    <tr style=\"text-align: right;\">\n",
       "      <th></th>\n",
       "      <th>Feature</th>\n",
       "      <th>Mutual Information</th>\n",
       "    </tr>\n",
       "  </thead>\n",
       "  <tbody>\n",
       "    <tr>\n",
       "      <th>387</th>\n",
       "      <td>AdvantageP1</td>\n",
       "      <td>0.252817</td>\n",
       "    </tr>\n",
       "    <tr>\n",
       "      <th>388</th>\n",
       "      <td>Balance</td>\n",
       "      <td>0.220147</td>\n",
       "    </tr>\n",
       "    <tr>\n",
       "      <th>549</th>\n",
       "      <td>MovesPerSecond</td>\n",
       "      <td>0.177490</td>\n",
       "    </tr>\n",
       "    <tr>\n",
       "      <th>62</th>\n",
       "      <td>NumVertices</td>\n",
       "      <td>0.173440</td>\n",
       "    </tr>\n",
       "    <tr>\n",
       "      <th>74</th>\n",
       "      <td>NumPlayableSites</td>\n",
       "      <td>0.171240</td>\n",
       "    </tr>\n",
       "    <tr>\n",
       "      <th>53</th>\n",
       "      <td>NumDirections</td>\n",
       "      <td>0.160639</td>\n",
       "    </tr>\n",
       "    <tr>\n",
       "      <th>50</th>\n",
       "      <td>NumColumns</td>\n",
       "      <td>0.157141</td>\n",
       "    </tr>\n",
       "    <tr>\n",
       "      <th>435</th>\n",
       "      <td>PieceNumberMaximum</td>\n",
       "      <td>0.150564</td>\n",
       "    </tr>\n",
       "    <tr>\n",
       "      <th>49</th>\n",
       "      <td>NumPlayableSitesOnBoard</td>\n",
       "      <td>0.146034</td>\n",
       "    </tr>\n",
       "    <tr>\n",
       "      <th>392</th>\n",
       "      <td>OutcomeUniformity</td>\n",
       "      <td>0.140932</td>\n",
       "    </tr>\n",
       "  </tbody>\n",
       "</table>\n",
       "</div>"
      ],
      "text/plain": [
       "                     Feature  Mutual Information\n",
       "387              AdvantageP1            0.252817\n",
       "388                  Balance            0.220147\n",
       "549           MovesPerSecond            0.177490\n",
       "62               NumVertices            0.173440\n",
       "74          NumPlayableSites            0.171240\n",
       "53             NumDirections            0.160639\n",
       "50                NumColumns            0.157141\n",
       "435       PieceNumberMaximum            0.150564\n",
       "49   NumPlayableSitesOnBoard            0.146034\n",
       "392        OutcomeUniformity            0.140932"
      ]
     },
     "execution_count": 14,
     "metadata": {},
     "output_type": "execute_result"
    }
   ],
   "source": [
    "mutual_info_num_lossess_agent1.head(10)"
   ]
  }
 ],
 "metadata": {
  "kernelspec": {
   "display_name": "Python 3",
   "language": "python",
   "name": "python3"
  },
  "language_info": {
   "codemirror_mode": {
    "name": "ipython",
    "version": 3
   },
   "file_extension": ".py",
   "mimetype": "text/x-python",
   "name": "python",
   "nbconvert_exporter": "python",
   "pygments_lexer": "ipython3",
   "version": "3.10.12"
  }
 },
 "nbformat": 4,
 "nbformat_minor": 2
}
