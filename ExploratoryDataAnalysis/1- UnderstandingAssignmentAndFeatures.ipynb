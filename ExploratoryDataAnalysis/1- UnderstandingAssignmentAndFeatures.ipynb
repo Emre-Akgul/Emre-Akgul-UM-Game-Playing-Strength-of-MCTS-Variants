{
 "cells": [
  {
   "cell_type": "markdown",
   "metadata": {},
   "source": [
    "# Exploratory Data Analysis Part 1: Understanding Assignment and Features"
   ]
  },
  {
   "cell_type": "markdown",
   "metadata": {},
   "source": [
    "## 1- Objective:\n",
    "\n",
    "Predict the performance of one Monte-Carlo Tree Search (MCTS) variant against another in a given game.\\\n",
    "The target column is the utility_agent1 column, which ranges from -1 (all loss for agent1) to 1 (all wins for agent1).\\\n",
    "Draw is also possible. Beside utility_agent1, (num_wins_agent1, num_draws_agent1, num_losses_agent1) also given in the training dataset.\\\n",
    "They can be usefull for trying different techniques.\n",
    "\n",
    "*********************************************************************************************************************************************"
   ]
  },
  {
   "cell_type": "markdown",
   "metadata": {},
   "source": [
    "## 2- Evaluation Metric:\n",
    "Root Mean Square Error (RMSE)\n",
    "\n",
    "*********************************************************************************************************************************************"
   ]
  },
  {
   "cell_type": "markdown",
   "metadata": {},
   "source": [
    "## 3- Dataset Overview\n",
    "*********************************************************************************************************************************************\n",
    "### 3.1- Shape of Data\n",
    "Each row is defined by 2 agent and a game.\\\n",
    "There are 186588 instance of (agent_1, agent_2, game) triple described by 813 different features.\n",
    "\n",
    "*********************************************************************************************************************************************\n",
    "\n",
    "### 3.2- Missing Data\n",
    "Behaviour, StateRepetition, Duration, Complexity, BoardCoverage, GameOutcome, StateEvaluation, Clarity, Decisiveness, Drama, MoveEvaluation, StateEvaluationDifference, BoardSitesOccupied, BranchingFactor, DecisionFactor, MoveDistance, PieceNumber, ScoreDifference columns are NaN for all 186588 instance. There are no other missing value in the data. Dropping those columns would be enough for handling missing data.\\\n",
    "There are 18 features with whole missing values. They will be discarded.\n",
    "\n",
    "*********************************************************************************************************************************************\n",
    "\n",
    "### 3.3- Data Types\n",
    "There are 607 integer columns, 201 float columns and 5 object columns.\\\n",
    "Some of integer and float columns can be behaved as categorical or ordinal features. There are 382 features that are binary. \\\n",
    "GameRulesetName, agent1, agent2, EnglishRules, LudRules are objects. They will be inspected more on high cardinality features section.\n",
    "\n",
    "*********************************************************************************************************************************************\n",
    "\n",
    "### 3.4- High Cardinality Features\n",
    "*********************************************************************************************************************************************\n",
    "#### 3.4.1- GameRulesetName\n",
    "GameRulesetName have 1377 number of unique values.\\\n",
    "There is no obvious relation between the different values of GameRulesetName. Can be discarded.\n",
    "\n",
    "*********************************************************************************************************************************************\n",
    "\n",
    "#### 3.4.2- agent1\n",
    "agent1 and agent2 both have 72 unique values which are same. \\\n",
    "They all have the same structure: MCTS-<SELECTION>-<EXPLORATION_CONST>-<PLAYOUT>-<SCORE_BOUNDS>\\\n",
    "4 different columns for each agent will be obtained by applying feature engineering to this feature.\\\n",
    "After feature engineering we get 8 different columns: p1_selection, p1_exploration, p1_playout, p1_bounds, p2_selection, p2_exploration, p2_playout, p2_bounds with 4,3, 3, 2, 4, 3, 3, 2 unique values in order. Then we can drop agent columns.\n",
    "\n",
    "\n",
    "*********************************************************************************************************************************************\n",
    "\n",
    "#### 3.4.3- agent2 \n",
    "Same with agent1 \n",
    "\n",
    "*********************************************************************************************************************************************\n",
    "\n",
    "#### 3.4.4- EnglishRules\n",
    "GameRulesetName have 1328 number of unique values.\\\n",
    "It is long strings of the rules of the games. Can be discarded.\n",
    "\n",
    "*********************************************************************************************************************************************\n",
    "\n",
    "#### 3.4.5- LudRules\n",
    "LudRules have 1373 number of unique values. \\\n",
    "It is a structured description of rules. Can be discarded.\n",
    "\n",
    "*********************************************************************************************************************************************"
   ]
  },
  {
   "cell_type": "markdown",
   "metadata": {},
   "source": [
    "## 4- Redundant Features\n",
    "\n",
    "*********************************************************************************************************************************************\n",
    "\n",
    "### 4.1- Constant Features\n",
    "There are 198 features that have constant value in total. They will be discarded.\n",
    "\n",
    "*********************************************************************************************************************************************\n",
    "\n",
    "### 4.2- Duplicated Features\n",
    "There are 33 duplicated features. One of each will be discarded.\n",
    "\n",
    "*********************************************************************************************************************************************\n",
    "### 4.3- Fully Correlated - Fully Uncorrelated Features\n",
    "There are 10 fully correlated - fully uncorrelated features. One of each will be discarded.\n",
    "*********************************************************************************************************************************************"
   ]
  },
  {
   "cell_type": "markdown",
   "metadata": {},
   "source": [
    "## Summary of What We Have Done\n",
    "The objective and evaluation metric are defined. In the codes on Appendix features with high missing values are dropped. Unnecessary high cardinality columns are dropped, from usefull high cardinality columns the information is extracted. Agent columns were initially have 72 unique values, now 4 columns with 4, 3, 3, 2 unique values give all information it gives. Redundant features are dropped. 813 initial features are reduced to the 562 features without loss of information."
   ]
  },
  {
   "cell_type": "markdown",
   "metadata": {},
   "source": [
    "## Appendix"
   ]
  },
  {
   "cell_type": "markdown",
   "metadata": {},
   "source": [
    "### 3- Dataset Overview"
   ]
  },
  {
   "cell_type": "code",
   "execution_count": 1,
   "metadata": {},
   "outputs": [],
   "source": [
    "import numpy as np\n",
    "import pandas as pd"
   ]
  },
  {
   "cell_type": "markdown",
   "metadata": {},
   "source": [
    "#### "
   ]
  },
  {
   "cell_type": "code",
   "execution_count": 2,
   "metadata": {},
   "outputs": [],
   "source": [
    "# Read the data\n",
    "train = pd.read_csv('../0- Data/train.csv', index_col='Id')"
   ]
  },
  {
   "cell_type": "markdown",
   "metadata": {},
   "source": [
    "#### 3.1- Shape of Data"
   ]
  },
  {
   "cell_type": "code",
   "execution_count": 3,
   "metadata": {},
   "outputs": [
    {
     "data": {
      "text/plain": [
       "(186588, 813)"
      ]
     },
     "execution_count": 3,
     "metadata": {},
     "output_type": "execute_result"
    }
   ],
   "source": [
    "# Dimensions\n",
    "train.shape"
   ]
  },
  {
   "cell_type": "markdown",
   "metadata": {},
   "source": [
    "#### 3.2- Missing Values"
   ]
  },
  {
   "cell_type": "code",
   "execution_count": 4,
   "metadata": {},
   "outputs": [
    {
     "data": {
      "text/plain": [
       "Behaviour                    186588\n",
       "StateRepetition              186588\n",
       "Duration                     186588\n",
       "Complexity                   186588\n",
       "BoardCoverage                186588\n",
       "GameOutcome                  186588\n",
       "StateEvaluation              186588\n",
       "Clarity                      186588\n",
       "Decisiveness                 186588\n",
       "Drama                        186588\n",
       "MoveEvaluation               186588\n",
       "StateEvaluationDifference    186588\n",
       "BoardSitesOccupied           186588\n",
       "BranchingFactor              186588\n",
       "DecisionFactor               186588\n",
       "MoveDistance                 186588\n",
       "PieceNumber                  186588\n",
       "ScoreDifference              186588\n",
       "dtype: int64"
      ]
     },
     "execution_count": 4,
     "metadata": {},
     "output_type": "execute_result"
    }
   ],
   "source": [
    "# Check number of missing values by column\n",
    "missing_values_count = train.isnull().sum()\n",
    "missing_values_count[missing_values_count > 0]"
   ]
  },
  {
   "cell_type": "code",
   "execution_count": 5,
   "metadata": {},
   "outputs": [
    {
     "data": {
      "text/plain": [
       "18"
      ]
     },
     "execution_count": 5,
     "metadata": {},
     "output_type": "execute_result"
    }
   ],
   "source": [
    "# Missing value feature names\n",
    "missing_features = missing_values_count[missing_values_count > 0].index\n",
    "len(missing_features)"
   ]
  },
  {
   "cell_type": "code",
   "execution_count": 6,
   "metadata": {},
   "outputs": [],
   "source": [
    "# Drop missing value features\n",
    "train.drop(missing_features, axis=1, inplace=True)"
   ]
  },
  {
   "cell_type": "markdown",
   "metadata": {},
   "source": [
    "#### 3.3- Data Types"
   ]
  },
  {
   "cell_type": "code",
   "execution_count": 7,
   "metadata": {},
   "outputs": [
    {
     "data": {
      "text/plain": [
       "int64      607\n",
       "float64    183\n",
       "object       5\n",
       "Name: count, dtype: int64"
      ]
     },
     "execution_count": 7,
     "metadata": {},
     "output_type": "execute_result"
    }
   ],
   "source": [
    "# data types of features\n",
    "train.dtypes.value_counts()"
   ]
  },
  {
   "cell_type": "code",
   "execution_count": 8,
   "metadata": {},
   "outputs": [
    {
     "data": {
      "text/plain": [
       "382"
      ]
     },
     "execution_count": 8,
     "metadata": {},
     "output_type": "execute_result"
    }
   ],
   "source": [
    "# number of features that have only 2 different values\n",
    "binary_features = train.nunique()[train.nunique() == 2]\n",
    "len(binary_features)"
   ]
  },
  {
   "cell_type": "code",
   "execution_count": 9,
   "metadata": {},
   "outputs": [
    {
     "data": {
      "text/plain": [
       "Index(['GameRulesetName', 'agent1', 'agent2', 'EnglishRules', 'LudRules'], dtype='object')"
      ]
     },
     "execution_count": 9,
     "metadata": {},
     "output_type": "execute_result"
    }
   ],
   "source": [
    "# features that are object\n",
    "object_features = train.select_dtypes(include=['object']).columns\n",
    "object_features"
   ]
  },
  {
   "cell_type": "markdown",
   "metadata": {},
   "source": [
    "#### 3.4- High Cardinality Features"
   ]
  },
  {
   "cell_type": "markdown",
   "metadata": {},
   "source": [
    "##### 3.4.1- GameRulesetName"
   ]
  },
  {
   "cell_type": "code",
   "execution_count": 10,
   "metadata": {},
   "outputs": [
    {
     "data": {
      "text/plain": [
       "1377"
      ]
     },
     "execution_count": 10,
     "metadata": {},
     "output_type": "execute_result"
    }
   ],
   "source": [
    "train[\"GameRulesetName\"].nunique()"
   ]
  },
  {
   "cell_type": "code",
   "execution_count": 11,
   "metadata": {},
   "outputs": [
    {
     "data": {
      "text/plain": [
       "GameRulesetName\n",
       "Pathway                                          181\n",
       "Tule_Paid                                        174\n",
       "Greater_Even_Loss                                173\n",
       "Sweep_Burrow                                     173\n",
       "Ludus_Latrunculorum8x8_Seega_Rules_Suggested     172\n",
       "                                                ... \n",
       "Pancha_Keliya                                     55\n",
       "Bheri_Bakhri                                      54\n",
       "58_HolesTab_Parallel_Connections_D6_Suggested     53\n",
       "58_HolesTab_Unmarked_Suggested                    46\n",
       "Faraday                                            3\n",
       "Name: count, Length: 1377, dtype: int64"
      ]
     },
     "execution_count": 11,
     "metadata": {},
     "output_type": "execute_result"
    }
   ],
   "source": [
    "train[\"GameRulesetName\"].value_counts()"
   ]
  },
  {
   "cell_type": "markdown",
   "metadata": {},
   "source": [
    "##### 3.4.2- agent1"
   ]
  },
  {
   "cell_type": "code",
   "execution_count": 12,
   "metadata": {},
   "outputs": [
    {
     "data": {
      "text/plain": [
       "72"
      ]
     },
     "execution_count": 12,
     "metadata": {},
     "output_type": "execute_result"
    }
   ],
   "source": [
    "train[\"agent1\"].nunique()"
   ]
  },
  {
   "cell_type": "code",
   "execution_count": 13,
   "metadata": {},
   "outputs": [
    {
     "data": {
      "text/plain": [
       "agent1\n",
       "MCTS-UCB1Tuned-0.1-NST-false                      2875\n",
       "MCTS-UCB1GRAVE-0.1-Random200-false                2871\n",
       "MCTS-UCB1Tuned-0.1-MAST-false                     2859\n",
       "MCTS-UCB1GRAVE-0.1-MAST-false                     2848\n",
       "MCTS-UCB1-0.6-MAST-false                          2839\n",
       "                                                  ... \n",
       "MCTS-ProgressiveHistory-0.6-NST-true              2350\n",
       "MCTS-ProgressiveHistory-1.41421356237-NST-true    2347\n",
       "MCTS-UCB1-1.41421356237-Random200-true            2337\n",
       "MCTS-UCB1Tuned-1.41421356237-MAST-true            2322\n",
       "MCTS-ProgressiveHistory-0.1-NST-true              2290\n",
       "Name: count, Length: 72, dtype: int64"
      ]
     },
     "execution_count": 13,
     "metadata": {},
     "output_type": "execute_result"
    }
   ],
   "source": [
    "train[\"agent1\"].value_counts()"
   ]
  },
  {
   "cell_type": "markdown",
   "metadata": {},
   "source": [
    "##### 3.4.2- agent2"
   ]
  },
  {
   "cell_type": "code",
   "execution_count": 14,
   "metadata": {},
   "outputs": [
    {
     "data": {
      "text/plain": [
       "72"
      ]
     },
     "execution_count": 14,
     "metadata": {},
     "output_type": "execute_result"
    }
   ],
   "source": [
    "train[\"agent2\"].nunique()"
   ]
  },
  {
   "cell_type": "code",
   "execution_count": 15,
   "metadata": {},
   "outputs": [
    {
     "data": {
      "text/plain": [
       "agent2\n",
       "MCTS-UCB1GRAVE-0.1-MAST-false             2913\n",
       "MCTS-UCB1Tuned-0.1-MAST-false             2892\n",
       "MCTS-UCB1GRAVE-0.1-Random200-false        2873\n",
       "MCTS-UCB1Tuned-0.1-NST-false              2847\n",
       "MCTS-UCB1GRAVE-1.41421356237-NST-false    2840\n",
       "                                          ... \n",
       "MCTS-UCB1GRAVE-0.6-MAST-true              2360\n",
       "MCTS-ProgressiveHistory-0.6-NST-true      2356\n",
       "MCTS-UCB1GRAVE-0.6-NST-true               2337\n",
       "MCTS-UCB1GRAVE-0.1-NST-true               2335\n",
       "MCTS-ProgressiveHistory-0.1-NST-true      2300\n",
       "Name: count, Length: 72, dtype: int64"
      ]
     },
     "execution_count": 15,
     "metadata": {},
     "output_type": "execute_result"
    }
   ],
   "source": [
    "train[\"agent2\"].value_counts()"
   ]
  },
  {
   "cell_type": "code",
   "execution_count": 16,
   "metadata": {},
   "outputs": [],
   "source": [
    "# Getting the selection, exploration, playout and bounds from the agent columns\n",
    "\n",
    "# Function to extract features based on the pattern provided\n",
    "def extract_features(agent_column):\n",
    "    selection = agent_column.str.extract(r'MCTS-(.*)-(.*)-(.*)-(.*)', expand=True)[0]\n",
    "    exploration = agent_column.str.extract(r'MCTS-(.*)-(.*)-(.*)-(.*)', expand=True)[1].astype(float)\n",
    "    playout = agent_column.str.extract(r'MCTS-(.*)-(.*)-(.*)-(.*)', expand=True)[2]\n",
    "    bounds = agent_column.str.extract(r'MCTS-(.*)-(.*)-(.*)-(.*)', expand=True)[3]\n",
    "    return selection, exploration, playout, bounds\n",
    "\n",
    "# Applying the function to extract features for agent1 and agent2\n",
    "train['p1_selection'], train['p1_exploration'], train['p1_playout'], train['p1_bounds'] = extract_features(train['agent1'])\n",
    "train['p2_selection'], train['p2_exploration'], train['p2_playout'], train['p2_bounds'] = extract_features(train['agent2'])\n",
    "\n",
    "train = train.drop([\"agent1\", \"agent2\"], axis=1) "
   ]
  },
  {
   "cell_type": "code",
   "execution_count": 17,
   "metadata": {},
   "outputs": [
    {
     "name": "stdout",
     "output_type": "stream",
     "text": [
      "4 3 3 2\n",
      "4 3 3 2\n"
     ]
    }
   ],
   "source": [
    "print(train[\"p1_selection\"].nunique(), train[\"p1_exploration\"].nunique(), train[\"p1_playout\"].nunique(), train[\"p1_bounds\"].nunique())\n",
    "print(train[\"p2_selection\"].nunique(), train[\"p2_exploration\"].nunique(), train[\"p2_playout\"].nunique(), train[\"p2_bounds\"].nunique())"
   ]
  },
  {
   "cell_type": "markdown",
   "metadata": {},
   "source": [
    "#### 3.4.4- EnglishRules"
   ]
  },
  {
   "cell_type": "code",
   "execution_count": 18,
   "metadata": {},
   "outputs": [
    {
     "data": {
      "text/plain": [
       "1328"
      ]
     },
     "execution_count": 18,
     "metadata": {},
     "output_type": "execute_result"
    }
   ],
   "source": [
    "train[\"EnglishRules\"].nunique()"
   ]
  },
  {
   "cell_type": "code",
   "execution_count": 19,
   "metadata": {},
   "outputs": [
    {
     "data": {
      "text/plain": [
       "EnglishRules\n",
       "Hares start first.                                                                                                                                                                                                                                                                                                                                                                                                                                                                                                                                                                                                                                                                                                                                                                                                                                                                                                                                                                                                                                                                                                                                                                                                                                                                         3133\n",
       "First, the giant takes place on all empty sites. The Giant piece can step to an empty site, the dwarves can step only forward to the top of the board. The giant wins if it reaches the bottom sites and the dwarves win if they block the giant to move.                                                                                                                                                                                                                                                                                                                                                                                                                                                                                                                                                                                                                                                                                                                                                                                                                                                                                                                                                                                                                                   560\n",
       "Hare starts first.                                                                                                                                                                                                                                                                                                                                                                                                                                                                                                                                                                                                                                                                                                                                                                                                                                                                                                                                                                                                                                                                                                                                                                                                                                                                          464\n",
       "First, the giant takes place on all empty sites. The Giant piece can step to an empty site, the dwarves can step only forward to the top of the board. The Giant can capture in hopping in all directions, the dwarves can capture on forwards. The giant wins if the dwarves have no moves and the dwarves win if they capture the giant.                                                                                                                                                                                                                                                                                                                                                                                                                                                                                                                                                                                                                                                                                                                                                                                                                                                                                                                                                  414\n",
       "Five pieces per player, which begin on the first five spaces in each track. Four sticks, each with a white side and a yellow side. Throws equal the number of white sides which fall up; when only yellow sides are up the throw equals 6. A throw of 1, 4, or 6 grants another throw to the player. Players perform all of their throws first, and then move pieces according to the values of the throws without subdividing the value of a single throw. Players cannot move their pieces until the throw a 1. Pieces cannot move past one another in the home row. Each piece in the home row must individually be unlocked with a throw of 1 before it can move When a player's piece lands in a space occupied by an opponent's piece, the opponent's piece is removed from the board. When a piece lands on a hole with a line connecting it to another hole, the piece moves forward along that line to the hole on the opposite end it. When a piece reaches the opponent's starting row, it cannot move if there are other pieces belonging to the player outside of this row. A piece resting on a marked space cannot be captured.                                                                                                                                              362\n",
       "                                                                                                                                                                                                                                                                                                                                                                                                                                                                                                                                                                                                                                                                                                                                                                                                                                                                                                                                                                                                                                                                                                                                                                                                                                                                                           ... \n",
       "Caerter Crossover 1 with a six-sided die.                                                                                                                                                                                                                                                                                                                                                                                                                                                                                                                                                                                                                                                                                                                                                                                                                                                                                                                                                                                                                                                                                                                                                                                                                                                    55\n",
       "3x8 board. Eight pieces per player, which start in the spaces of the outer rows of the board. Four cowrie shells used as dice, the number of mouths face up being the value of the throw. A throw of 1 grants the player another throw. A player must throw 1 for the first move of each of their pieces. Players may only play with one piece out of the home row at a time and cannot move the next of their pieces until the piece being played has been captured. Throws of 1 must be used to move a piece in the home row, if possible. Pieces move from left to right in the player's home row, then from right to left in the central row, left to right in the opponent's home row, and right to left in the central row. When a piece lands on a space occupied by an opponent's piece, the opponent's piece is captured. The player who captures all of the opponent's pieces wins.                                                                                                                                                                                                                                                                                                                                                                                                54\n",
       "Tab on Parallel Connections boards with D6.                                                                                                                                                                                                                                                                                                                                                                                                                                                                                                                                                                                                                                                                                                                                                                                                                                                                                                                                                                                                                                                                                                                                                                                                                                                  53\n",
       "Five pieces per player, which begin on the first five spaces in each track. Four sticks, each with a white side and a yellow side. Throws equal the number of white sides which fall up; when only yellow sides are up the throw equals 6. A throw of 1, 4, or 6 grants another throw to the player. Players perform all of their throws first, and then move pieces according to the values of the throws without subdividing the value of a single throw. Players cannot move their pieces until the throw a 1. Pieces cannot move past one another in the home row. Each piece in the home row must individually be unlocked with a throw of 1 before it can move When a player's piece lands in a space occupied by an opponent's piece, the opponent's piece is removed from the board. When a piece reaches the opponent's starting row, it cannot move if there are other pieces belonging to the player outside of this row.                                                                                                                                                                                                                                                                                                                                                         46\n",
       "Goal: End the game with the highest scoring group. A group scores one point for each stone it contains. Definitions: A group, as in Go, is every stone that can be reached from a selected stone through a series of adjacent stones of the same color. Play: Start with a pie offer of 1 to 3 stones of any color combination. (Player 1 does this by making 3 placements, or passes; after which Player 2 may choose to play, or to have the pieces exchanged with the opposite colors) Turns alternate. On a turn, a player places a series of stones, one at a time, (as described below) until no more placements are possible, and then passes. Order of placement matters. Placements are made to empty cells that: -- 1) have more neighbors that are oppositely charged than similarly charged, or -- 2) have 3 or more oppositely charged neighbors. The game ends when neither player can play. The largest group for each player is then scored. In case of a tie the last to place a stone loses. Variants: Exception for Surplus Charge Immediately after placing to a cell with 4 or more oppositely charged neighbors, the player MUST, if possible, place the next stone on an otherwise unplayable empty cell with an equal number of both types of charge around it.       3\n",
       "Name: count, Length: 1328, dtype: int64"
      ]
     },
     "execution_count": 19,
     "metadata": {},
     "output_type": "execute_result"
    }
   ],
   "source": [
    "train[\"EnglishRules\"].value_counts()"
   ]
  },
  {
   "cell_type": "markdown",
   "metadata": {},
   "source": [
    "#### 3.4.5- LudRules"
   ]
  },
  {
   "cell_type": "code",
   "execution_count": 20,
   "metadata": {},
   "outputs": [
    {
     "data": {
      "text/plain": [
       "1373"
      ]
     },
     "execution_count": 20,
     "metadata": {},
     "output_type": "execute_result"
    }
   ],
   "source": [
    "train[\"LudRules\"].nunique()"
   ]
  },
  {
   "cell_type": "code",
   "execution_count": 21,
   "metadata": {},
   "outputs": [
    {
     "data": {
      "text/plain": [
       "LudRules\n",
       "(game \"Ludus Coriovalli\" (players 2) (equipment { (board (add (merge { (rectangle 1 2) (shift 1 0 (rectangle 1 3)) (shift 3 0 (rectangle 1 2)) (rectangle 2 1) (shift 4 0 (rectangle 2 1)) (shift 4 1.5 (rectangle 2 1)) (shift 0 1.5 (rectangle 2 1)) (shift 0 2.5 (rectangle 1 2)) (shift 1 2.5 (rectangle 1 3)) (shift 3 2.5 (rectangle 1 2)) } ) edges:{ {9 5} {5 1} {9 11} {12 2} {13 7} {6 3} {6 7} } ) use:Vertex ) (piece \"Dog\" P2 (move Step (to if:(is Empty (to))))) (piece \"Hare\" P1 (move Step (to if:(is Empty (to))))) } ) (rules (start { (place \"Hare1\" (sites {\"C1\"})) (place \"Dog2\" (sites {\"A4\" \"C4\" \"E4\"})) } ) (play (forEach Piece)) (end { (if (no Moves P1) (result P2 Win)) (if (or (>= (count Moves) (- (value MoveLimit) 10)) (>= (count Turns) (- (value TurnLimit) 5)) ) (result P1 Win) ) } ) ) )                                                                                                                                                                                                                                                                                                                                                                                                                                                                                                                                                                                                                                                                                                                                                                                                                                                                                                                                                                                                                                                                                                                                                                                                                                                                                                                                                                                                                                                                                                                                                                                                                                                                                                                                                                                                                                                                                                                                                                                                                                                                                                                                                                                                                                                                                                                                                                                                                                                                                                                                                                                                                                                                                                                                                                                                                                                                                                                                                                                                                                                                                                                                                                                                                                                                                                                                                                                        292\n",
       "(game \"Shono\" (players 2) (equipment { (mancalaBoard 2 6 (track \"Track\" \"1,E,N,W\" loop:True)) (regions P1 (sites Bottom)) (regions P2 (sites Top)) (map { (pair P1 FirstSite) (pair P2 LastSite) }) (piece \"Seed\" Shared) } ) (rules (start (set Count 5 to:(sites Track))) (play (move Select (from (sites Mover) if:(< 0 (count at:(from)))) (then (sow if:(and (is In (to) (sites Next)) (or (= (count at:(to)) 2) (= (count at:(to)) 3)) ) apply:(fromTo (from (to)) (to (mapEntry (mover))) count:(count at:(to)) ) includeSelf:False backtracking:True ) ) ) ) (end (if (no Moves Mover) (byScore { (score P1 (+ (count at:(mapEntry P1)) (count in:(sites P1))) ) (score P2 (+ (count at:(mapEntry P2)) (count in:(sites P2))) ) } ) ) ) ) )                                                                                                                                                                                                                                                                                                                                                                                                                                                                                                                                                                                                                                                                                                                                                                                                                                                                                                                                                                                                                                                                                                                                                                                                                                                                                                                                                                                                                                                                                                                                                                                                                                                                                                                                                                                                                                                                                                                                                                                                                                                                                                                                                                                                                                                                                                                                                                                                                                                                                                                                                                                                                                                                                                                                                                                                                                                                                                                                                                                                                                                                                                                                                                                                                                                                                                                                                                                                                                                                     288\n",
       "(game \"Ludus Coriovalli\" (players 2) (equipment { (board (add (merge { (scale 2 1 (rectangle 1 3)) (rectangle 2 1) (shift 4 0 (rectangle 2 1)) (shift 4 1.5 (rectangle 2 1)) (shift 0 1.5 (rectangle 2 1)) (scale 2 1 (shift 0 2.5 (rectangle 1 3))) } ) edges:{ {3 7} {5 4} {9 1} {3 1} {1 4} {5 9} {9 7} } ) use:Vertex ) (piece \"Dog\" P2 (move Step (to if:(is Empty (to))))) (piece \"Hare\" P1 (move Step (to if:(is Empty (to))))) } ) (rules (start { (place \"Hare1\" (sites {\"B1\"})) (place \"Dog2\" (sites {\"A4\" \"B4\" \"C4\"})) } ) (play (forEach Piece)) (end { (if (no Moves P1) (result P2 Win)) (if (or (>= (count Moves) (- (value MoveLimit) 10)) (>= (count Turns) (- (value TurnLimit) 5)) ) (result P1 Win) ) } ) ) )                                                                                                                                                                                                                                                                                                                                                                                                                                                                                                                                                                                                                                                                                                                                                                                                                                                                                                                                                                                                                                                                                                                                                                                                                                                                                                                                                                                                                                                                                                                                                                                                                                                                                                                                                                                                                                                                                                                                                                                                                                                                                                                                                                                                                                                                                                                                                                                                                                                                                                                                                                                                                                                                                                                                                                                                                                                                                                                                                                                                                                                                                                                                                                                                                                                                                                                                                                                                                                                                                       280\n",
       "(game \"Pathway\" (players 2) (equipment { (board (square 6)) (piece \"Disc\" Each) } ) (rules (play (move Add (to (sites Empty) if:(or (all Sites (sites Around (to) Orthogonal) if:(is Empty (site)) ) (= 1 (count Sites in:(sites Around (to) Own Orthogonal) ) ) ) ) ) ) (end (if (no Moves Next) (result Next Win))) ) )                                                                                                                                                                                                                                                                                                                                                                                                                                                                                                                                                                                                                                                                                                                                                                                                                                                                                                                                                                                                                                                                                                                                                                                                                                                                                                                                                                                                                                                                                                                                                                                                                                                                                                                                                                                                                                                                                                                                                                                                                                                                                                                                                                                                                                                                                                                                                                                                                                                                                                                                                                                                                                                                                                                                                                                                                                                                                                                                                                                                                                                                                                                                                                                                                                                                                                                                                                                                                                                                                                                                                                                                                                                                                                                                                                                                                                                                                               181\n",
       "(game \"Tule Paid\" (players 2) (equipment { (board (concentric Square rings:3 joinCorners:True) use:Vertex) (hand Each) (piece \"Marker\" Each (move Step (to if:(is Empty (to))) (then (if (is Line 3) (moveAgain))) ) ) } ) (rules (start (place \"Marker\" \"Hand\" count:12)) phases:{ (phase \"Placement\" (play (if (is Prev Mover) (move Remove (sites Occupied by:Enemy container:\"Board\") ) (move (from (handSite Mover)) (to (sites Empty)) (then (if (is Line 3) (moveAgain))) ) ) ) (nextPhase Mover (all Sites (sites Hand Mover) if:(= 0 (count Cell at:(site))) ) \"Movement\" ) ) (phase \"Movement\" (play (if (is Prev Mover) (move Remove (sites Occupied by:Enemy container:\"Board\") ) (forEach Piece) ) ) ) } (end (if (no Pieces Next) (result Next Loss))) ) )                                                                                                                                                                                                                                                                                                                                                                                                                                                                                                                                                                                                                                                                                                                                                                                                                                                                                                                                                                                                                                                                                                                                                                                                                                                                                                                                                                                                                                                                                                                                                                                                                                                                                                                                                                                                                                                                                                                                                                                                                                                                                                                                                                                                                                                                                                                                                                                                                                                                                                                                                                                                                                                                                                                                                                                                                                                                                                                                                                                                                                                                                                                                                                                                                                                                                                                                                                                                                                                174\n",
       "                                                                                                                                                                                                                                                                                                                                                                                                                                                                                                                                                                                                                                                                                                                                                                                                                                                                                                                                                                                                                                                                                                                                                                                                                                                                                                                                                                                                                                                                                                                                                                                                                                                                                                                                                                                                                                                                                                                                                                                                                                                                                                                                                                                                                                                                                                                                                                                                                                                                                                                                                                                                                                                                                                                                                                                                                                                                                                                                                                                                                                                                                                                                                                                                                                                                                                                                                                                                                                                                                                                                                                                                                                                                                                                                                                                                                                                                                                                                                                                                                                                                                                                                                                                                                       ... \n",
       "(game \"Pancha Keliya\" (players 2) (equipment { (board (rotate 90 (merge { (shift 2.79 10.44 (rotate 135 (rectangle 5 1))) (shift 6.32 11.15 (rotate 45 (rectangle 5 1))) (shift 9 11 (graph vertices:{ {0 0} {-0.75 0.55} {-0.04 1.24} {1 0} } edges:{ { 0 1} { 1 2 } { 2 3 } { 3 0 } } ) ) (shift 9 5 (rectangle 6 1)) (shift 5 5 (rectangle 1 5)) (rectangle 1 9) (shift 4 0 (rectangle 6 1)) } ) ) { (track \"Track1\" \"23,N4,W,N,W,11,7,SW,SE,End\" P1 directed:True ) (track \"Track2\" \"31,S4,W,N,W,11,7,SW,SE,End\" P2 directed:True ) } ) (piece \"Marker\" Each (if (= (trackSite Move steps:(count Pips)) End) (move Remove (from)) (if (!= (trackSite Move steps:(count Pips)) Off) (if (or (is Empty (trackSite Move steps:(count Pips))) (and (not (is Friend (who at:(trackSite Move steps:(count Pips) ) ) ) ) (not (is In (trackSite Move steps:(count Pips) ) (sites \"Protect\") ) ) ) ) (move (from) (to (trackSite Move steps:(count Pips)) (apply if:(is Enemy (who at:(to))) (fromTo (from (to)) (to (mapEntry \"Entry\" Next)) ) ) ) ) ) ) ) ) (dice d:2 from:0 num:6) (hand Each) (regions \"Protect\" (sites {27 19 12 10 1})) (regions \"SpecialDiceValues\" (sites {1 5 6})) (map \"Entry\" { (pair P1 23) (pair P2 31) }) } ) (rules (start (place \"Marker\" \"Hand\" count:3)) (play (do (roll) next:(if (and (is In (count Pips) (sites \"SpecialDiceValues\")) (not (all Sites (sites Hand Mover) if:(= 0 (count Cell at:(site))) ) ) ) (or (move (from (handSite Mover)) (to (mapEntry \"Entry\" Mover) if:(not (is Enemy (who at:(to)))) ) ) (forEach Piece) (then (moveAgain)) ) (forEach Piece) ) ) ) (end (if (no Pieces Mover) (result Mover Win))) ) )                                                                                                                                                                                                                                                                                                                                                                                                                                                                                                                                                                                                                                                                                                                                                                                                                                                                                                                                                                                                                                                                                                                                                                                                                                                                                                                                                                                                                                                                                                                                                                                                                                                                                                                                                                                                                                                                                                                                                                                                                                                                                                                                                                                                                                                                                                                                                                                                                                                                                                                                                      55\n",
       "(game \"Bheri Bakhri\" (players 2) (equipment { (board (rectangle 3 8) { (track \"Track1\" \"0,E,N1,W,N1,E,S1,W\" loop:True P1) (track \"Track2\" \"23,W,S1,E,S1,W,N1,E\" loop:True P2) } ) (dice d:2 from:0 num:4) (piece \"Marker\" Each (if (and { (if (!= 0 (state at:(from))) True (= 1 (count Pips)) ) } ) (if (and (not (is Friend (who at:(trackSite Move steps:(count Pips)) ) ) ) (if (not (is In (from) (sites Mover \"Home\"))) True (if (is In (trackSite Move steps:(count Pips)) (sites Mover \"Home\") ) True (= (count Pieces Mover in:(difference (sites Board) (sites Mover \"Home\") ) ) 0 ) ) ) ) (move (from) (to (trackSite Move steps:(count Pips)) (apply if:(is Enemy (who at:(to))) (remove (to)) ) ) (then (if (and (not (!= 0 (state at:(last To)))) (= 1 (count Pips)) ) (set State at:(last To) 1) ) ) ) ) ) ) (regions \"Home\" P1 (sites Bottom)) (regions \"Home\" P2 (sites Top)) } ) (rules (start { (place \"Marker1\" (sites Bottom)) (place \"Marker2\" (sites Top)) } ) (play (do (roll) next:(if (= 1 (count Pips)) (priority { (forEach Piece (if (and { (if (!= 0 (state at:(from))) True (= 1 (count Pips)) ) (is In (from) (sites Mover \"Home\") ) } ) (if (and (not (is Friend (who at:(trackSite Move steps:(count Pips) ) ) ) ) (if (not (is In (from) (sites Mover \"Home\") ) ) True (if (is In (trackSite Move steps:(count Pips) ) (sites Mover \"Home\") ) True (= (count Pieces Mover in:(difference (sites Board) (sites Mover \"Home\" ) ) ) 0 ) ) ) ) (move (from) (to (trackSite Move steps:(count Pips) ) (apply if:(is Enemy (who at:(to)) ) (remove (to)) ) ) (then (if (and (not (!= 0 (state at:(last To ) ) ) ) (= 1 (count Pips)) ) (set State at:(last To) 1) ) ) ) ) ) ) (forEach Piece) } ) (forEach Piece) ) (then (if (= 1 (count Pips)) (moveAgain))) ) ) (end (if (no Pieces Next) (result Next Loss))) ) )                                                                                                                                                                                                                                                                                                                                                                                                                                                                                                                                                                                                                                                                                                                                                                                                                                                                                                                                                                                                                                                                                                                                                                                                                                                                                                                                                                                                                                                                                                                                                                                                                                                                                                                                                                                                                                                                                                                                                                                                                                                                                                                                                                                                                                                                                                                                                                       54\n",
       "(game \"58 Holes\" (players 2) (equipment { (board (graph vertices:{ {9 27} {9 24} {9 21} {9 18} {9 15} {9 12} {9 9} {9 6} {9 3} {9 0} {3 0} {3 2} {3 4} {3 6} {3 8} {3 10} {3 12} {3 14} {3 16} {3 18} {3 20} {3 22} {3 24} {3 26} {3 28} {4 30} {6 31} {8 32} {10 33} {15 27} {15 24} {15 21} {15 18} {15 15} {15 12} {15 9} {15 6} {15 3} {15 0} {21 0} {21 2} {21 4} {21 6} {21 8} {21 10} {21 12} {21 14} {21 16} {21 18} {21 20} {21 22} {21 24} {21 26} {21 28} {20 30} {18 31} {16 32} {14 33} {12 33} } edges:{ {0 1} {1 2} {2 3} {3 4} {4 5} {5 6} {6 7} {7 8} {8 9} {9 10} {10 11} {11 12} {12 13} {13 14} {14 15} {15 16} {16 17} {17 18} {18 19} {19 20} {20 21} {21 22} {22 23} {23 24} {24 25} {25 26} {26 27} {27 28} {28 58} {29 30} {30 31} {31 32} {32 33} {33 34} {34 35} {35 36} {36 37} {37 38} {38 39} {39 40} {40 41} {41 42} {42 43} {43 44} {44 45} {45 46} {46 47} {47 48} {48 49} {49 50} {50 51} {51 52} {52 53} {53 54} {54 55} {55 56} {56 57} {57 58} } ) { (track \"Track1\" { 0 1 2 3 4 5 6 7 8 9 10 11 12 13 14 15 16 17 18 19 20 21 22 23 24 25 26 27 28 58 57 56 55 54 53 52 51 50 49 48 47 46 45 44 43 42 41 40 39 38 37 36 35 34 33 32 31 30 29 } loop:True P1 ) (track \"Track2\" { 29 30 31 32 33 34 35 36 37 38 39 40 41 42 43 44 45 46 47 48 49 50 51 52 53 54 55 56 57 58 28 27 26 25 24 23 22 21 20 19 18 17 16 15 14 13 12 11 10 9 8 7 6 5 4 3 2 1 0 } loop:True P2 ) } use:Vertex ) (dice d:6 num:1) (regions \"Protection\" {5 7 9 34 36 38 14 43 19 48 24 53 58}) (piece \"Marker\" Each (if (if (is In (from) (sites Start (piece (id \"Marker\" Next))) ) (all Sites (sites Occupied by:Mover) if:(is In (site) (sites Start (piece (id \"Marker\" Next))) ) ) True ) (if (= 0 (state at:(from))) (forEach Site (sites (values Remembered \"Throws\")) (if (or (is Empty (trackSite Move steps:(site))) (and (is Enemy (who at:(trackSite Move steps:(site) ) ) ) (not (is In (trackSite Move steps:(site)) (sites \"Protection\") ) ) ) ) (move (from) (to (trackSite Move steps:(site)) (apply (forget Value \"Throws\" (site))) ) (then (if (!= (last To) (if (is Mover P1) (mapEntry \"ConnectionP1\" (last To) ) (mapEntry \"ConnectionP2\" (last To) ) ) ) (if (is Empty (if (is Mover P1) (mapEntry \"ConnectionP1\" (last To) ) (mapEntry \"ConnectionP2\" (last To) ) ) ) (move (from (last To)) (to (if (is Mover P1) (mapEntry \"ConnectionP1\" (last To) ) (mapEntry \"ConnectionP2\" (last To) ) ) ) ) ) ) ) ) ) ) (forEach Site (sites (values Remembered \"Throws\")) (if (= 1 (site)) (if (or (is Empty (trackSite Move steps:(site)) ) (and (is Enemy (who at:(trackSite Move steps:(site) ) ) ) (not (is In (trackSite Move steps:(site) ) (sites \"Protection\") ) ) ) ) (move (from) (to (trackSite Move steps:(site)) (apply (forget Value \"Throws\" (site)) ) ) (then (and (set State at:(last To) 0) (if (!= (last To) (if (is Mover P1) (mapEntry \"ConnectionP1\" (last To) ) (mapEntry \"ConnectionP2\" (last To) ) ) ) (if (is Empty (if (is Mover P1) (mapEntry \"ConnectionP1\" (last To) ) (mapEntry \"ConnectionP2\" (last To) ) ) ) (move (from (last To)) (to (if (is Mover P1 ) (mapEntry \"ConnectionP1\" (last To ) ) (mapEntry \"ConnectionP2\" (last To ) ) ) ) ) ) ) ) ) ) ) ) ) ) ) ) (map \"ConnectionP1\" { (pair 5 19) (pair 7 9) (pair 48 34) (pair 38 36) } ) (map \"ConnectionP2\" { (pair 19 5) (pair 9 7) (pair 34 48) (pair 36 38) } ) (map \"Throw\" { (pair 0 6) (pair 1 1) (pair 2 2) (pair 3 3) (pair 4 4) } ) } ) (rules (start { (place \"Marker1\" (sites {0 1 2 3 4}) state:1) (place \"Marker2\" (sites {29 30 31 32 33}) state:1) } ) phases:{ (phase \"GetMoves\" (play (do (roll) next:(move Pass (then (remember Value \"Throws\" (mapEntry \"Throw\" (count Pips)) ) ) ) (then (moveAgain)) ) ) (nextPhase (not (is In (mapEntry \"Throw\" (count Pips)) (sites {1 4 6}) ) ) \"Movement\" ) ) (phase \"Movement\" (play (if (can Move (forEach Piece)) (forEach Piece (then (if (!= 0 (count Sites in:(sites (values Remembered \"Throws\") ) ) ) (moveAgain) ) ) ) (move Pass (then (forget Value \"Throws\" All))) ) ) (nextPhase (not (!= 0 (count Sites in:(sites (values Remembered \"Throws\")) ) ) ) \"GetMoves\" ) ) } (end (if (no Pieces Next) (result Next Loss))) ) )     53\n",
       "(game \"58 Holes\" (players 2) (equipment { (board (graph vertices:{ {7 26} {8 23} {8.3 21} {8.3 19} {8.5 17} {8.4 14.5} {8.5 12} {8.6 9.5} {8.6 7} {8.6 4.5} {8.8 2} {8.9 1} {8 0} {7 0.5} {6 2} {5 4.6} {5.1 7} {5 8.5} {5.1 10} {5.1 12.5} {5 15} {5.2 17} {5.4 19} {5.6 21} {5 24} {4 27} {5 29} {6 30} {8 31} {17 26} {16 23} {15.7 21} {15.7 19} {15.5 17} {15.6 14.5} {15.5 12} {15.4 9.5} {15.4 7} {15.4 4.5} {15.2 2} {15.1 1} {16 0} {17 0.5} {18 2} {19 4.6} {18.9 7} {19 8.5} {18.9 10} {18.9 12.5} {19.5 16} {19.6 18.5} {19.6 21} {19.8 23.5} {20 27} {19 30} {18 31} {16 31.5} {14 32} {12 31} } edges:{ {0 1} {1 2} {2 3} {3 4} {4 5} {5 6} {6 7} {7 8} {8 9} {9 10} {10 11} {11 12} {12 13} {13 14} {14 15} {15 16} {16 17} {17 18} {18 19} {19 20} {20 21} {21 22} {22 23} {23 24} {24 25} {25 26} {26 27} {27 28} {28 58} {29 30} {30 31} {31 32} {32 33} {33 34} {34 35} {35 36} {36 37} {37 38} {38 39} {39 40} {40 41} {41 42} {42 43} {43 44} {44 45} {45 46} {46 47} {47 48} {48 49} {49 50} {50 51} {51 52} {52 53} {53 54} {54 55} {55 56} {56 57} {57 58} } ) { (track \"Track1\" { 0 1 2 3 4 5 6 7 8 9 10 11 12 13 14 15 16 17 18 19 20 21 22 23 24 25 26 27 28 58 57 56 55 54 53 52 51 50 49 48 47 46 45 44 43 42 41 40 39 38 37 36 35 34 33 32 31 30 29 } loop:True P1 ) (track \"Track2\" { 29 30 31 32 33 34 35 36 37 38 39 40 41 42 43 44 45 46 47 48 49 50 51 52 53 54 55 56 57 58 28 27 26 25 24 23 22 21 20 19 18 17 16 15 14 13 12 11 10 9 8 7 6 5 4 3 2 1 0 } loop:True P2 ) } use:Vertex ) (dice d:2 from:0 num:4) (piece \"Marker\" Each (if (if (is In (from) (sites Start (piece (id \"Marker\" Next))) ) (all Sites (sites Occupied by:Mover) if:(is In (site) (sites Start (piece (id \"Marker\" Next))) ) ) True ) (if (= 0 (state at:(from))) (forEach Site (sites (values Remembered \"Throws\")) (if (or (is Empty (trackSite Move steps:(site))) (is Enemy (who at:(trackSite Move steps:(site))) ) ) (move (from) (to (trackSite Move steps:(site)) (apply (forget Value \"Throws\" (site))) ) ) ) ) (forEach Site (sites (values Remembered \"Throws\")) (if (= 1 (site)) (if (or (is Empty (trackSite Move steps:(site)) ) (is Enemy (who at:(trackSite Move steps:(site) ) ) ) ) (move (from) (to (trackSite Move steps:(site)) (apply (forget Value \"Throws\" (site)) ) ) (then (set State at:(last To) 0)) ) ) ) ) ) ) ) (map \"Throw\" { (pair 0 6) (pair 1 1) (pair 2 2) (pair 3 3) (pair 4 4) } ) } ) (rules (start { (place \"Marker1\" (sites {0 1 2 3 4}) state:1) (place \"Marker2\" (sites {29 30 31 32 33}) state:1) } ) phases:{ (phase \"GetMoves\" (play (do (roll) next:(move Pass (then (remember Value \"Throws\" (mapEntry \"Throw\" (count Pips)) ) ) ) (then (moveAgain)) ) ) (nextPhase (not (is In (mapEntry \"Throw\" (count Pips)) (sites {1 4 6}) ) ) \"Movement\" ) ) (phase \"Movement\" (play (if (can Move (forEach Piece)) (forEach Piece (then (if (!= 0 (count Sites in:(sites (values Remembered \"Throws\") ) ) ) (moveAgain) ) ) ) (move Pass (then (forget Value \"Throws\" All))) ) ) (nextPhase (not (!= 0 (count Sites in:(sites (values Remembered \"Throws\")) ) ) ) \"GetMoves\" ) ) } (end (if (no Pieces Next) (result Next Loss))) ) )                                                                                                                                                                                                                                                                                                                                                                                                                                                                                                                                                                                                                                                                                                                                                                                                                                                                                                                                                                                                                              46\n",
       "(game \"Faraday\" (players 2) (equipment { (board (tri Hexagon 6) use:Vertex) (piece \"Ball\" P1) (piece \"Ball\" P2) } ) (rules (meta (no Repeat Positional)) (start (set Score Each 0)) phases:{ (phase \"Pie\" (play (if (is Mover P1) (or { (move Add (piece (mover)) (to (sites Empty))) (move Add (piece (next)) (to (sites Empty))) (move Pass) } (then (if (< 0 (counter)) (set NextPlayer (player (next))) (moveAgain) ) ) ) (or (move Propose \"Accept Pie Offer and Move\" (then (set NextPlayer (player (mover)))) ) (move Propose \"Swap Pieces\" (then (do (forEach Site (sites Occupied by:Mover) (remember Value (site)) ) next:(forEach Site (sites Occupied by:Next) (and (remove (site)) (add (piece (mover)) (to (site)) ) ) ) (then (forEach Value (values Remembered) (and (remove (value)) (add (piece (next)) (to (value)) ) ) (then (and (forget Value All) (set NextPlayer (player (next)) ) ) ) ) ) ) ) ) ) ) ) (nextPhase (or (is Proposed \"Swap Pieces\") (is Proposed \"Accept Pie Offer and Move\") ) \"Placement\" ) ) (phase \"Placement\" (play (move Add (piece (mover)) (to (sites Empty) if:(or (<= 3 (count Pieces Next in:(sites Around (to) Orthogonal) ) ) (< 0 (- (count Pieces Next in:(sites Around (to) Orthogonal) ) (count Pieces Mover in:(sites Around (to) Orthogonal) ) ) ) ) ) (then (and { (set Score Mover (max (sizes Group Orthogonal Mover)) ) (set Var \"Last2Move\" (mover)) (if (not (no Moves Mover)) (moveAgain)) } ) ) ) ) (end (if (all Passed) { (if (!= (score Mover) (score Next)) (byScore)) (if (and (= (score Mover) (score Next)) (= (var \"Last2Move\") (mover)) ) (result Mover Loss) ) (if (and (= (score Mover) (score Next)) (!= (var \"Last2Move\") (mover)) ) (result Mover Loss) ) } (byScore) ) ) ) } ) )                                                                                                                                                                                                                                                                                                                                                                                                                                                                                                                                                                                                                                                                                                                                                                                                                                                                                                                                                                                                                                                                                                                                                                                                                                                                                                                                                                                                                                                                                                                                                                                                                                                                                                                                                                                                                                                                                                                                                                                                                                                                                                                                                                                                                                                                                                                                                                                                                                                          3\n",
       "Name: count, Length: 1373, dtype: int64"
      ]
     },
     "execution_count": 21,
     "metadata": {},
     "output_type": "execute_result"
    }
   ],
   "source": [
    "train[\"LudRules\"].value_counts()"
   ]
  },
  {
   "cell_type": "code",
   "execution_count": 22,
   "metadata": {},
   "outputs": [],
   "source": [
    "# End of high cardinality features\n",
    "# Drop GameRulesetName, EnglishRules, LudRules\n",
    "train.drop([\"GameRulesetName\", \"EnglishRules\", \"LudRules\"], axis=1, inplace=True)"
   ]
  },
  {
   "cell_type": "markdown",
   "metadata": {},
   "source": [
    "### 4- Redundant Features"
   ]
  },
  {
   "cell_type": "markdown",
   "metadata": {},
   "source": [
    "#### 4.1- Constant Features"
   ]
  },
  {
   "cell_type": "code",
   "execution_count": 23,
   "metadata": {},
   "outputs": [
    {
     "data": {
      "text/plain": [
       "198"
      ]
     },
     "execution_count": 23,
     "metadata": {},
     "output_type": "execute_result"
    }
   ],
   "source": [
    "# Columns that have constant value\n",
    "constant_columns = train.columns[train.nunique() == 1]\n",
    "len(constant_columns)"
   ]
  },
  {
   "cell_type": "code",
   "execution_count": 24,
   "metadata": {},
   "outputs": [],
   "source": [
    "# Drop columns that have constant value\n",
    "train.drop(columns=constant_columns, inplace=True)"
   ]
  },
  {
   "cell_type": "markdown",
   "metadata": {},
   "source": [
    "#### 4.2- Features with Same Values"
   ]
  },
  {
   "cell_type": "code",
   "execution_count": 25,
   "metadata": {},
   "outputs": [
    {
     "data": {
      "text/plain": [
       "33"
      ]
     },
     "execution_count": 25,
     "metadata": {},
     "output_type": "execute_result"
    }
   ],
   "source": [
    "# Features with same values\n",
    "duplicated_columns = []\n",
    "for i in range(len(train.columns)):\n",
    "    v = train.iloc[:, i].values\n",
    "    for j in range(i + 1, len(train.columns)):\n",
    "        if np.array_equal(v, train.iloc[:, j].values):\n",
    "            duplicated_columns.append(train.columns[i])\n",
    "            break\n",
    "\n",
    "len(duplicated_columns)"
   ]
  },
  {
   "cell_type": "code",
   "execution_count": 26,
   "metadata": {},
   "outputs": [],
   "source": [
    "# Drop duplicated\n",
    "train.drop(columns=duplicated_columns, inplace=True)"
   ]
  },
  {
   "cell_type": "markdown",
   "metadata": {},
   "source": [
    "#### 4.3- Fully Correlated - Fully Uncorrelated Features"
   ]
  },
  {
   "cell_type": "code",
   "execution_count": 27,
   "metadata": {},
   "outputs": [
    {
     "data": {
      "text/plain": [
       "5"
      ]
     },
     "execution_count": 27,
     "metadata": {},
     "output_type": "execute_result"
    }
   ],
   "source": [
    "# Fully correlated or fully uncorrelated features\n",
    "numerical_features = train.select_dtypes(include=['number'])\n",
    "correlation_matrix = numerical_features.corr().abs()\n",
    "upper = correlation_matrix.where(np.triu(np.ones(correlation_matrix.shape), k=1).astype(bool))\n",
    "fully_corr_features = [column for column in upper.columns if any(upper[column] >= 1)]\n",
    "len(fully_corr_features)"
   ]
  },
  {
   "cell_type": "code",
   "execution_count": 28,
   "metadata": {},
   "outputs": [],
   "source": [
    "# Drop fully correlated features\n",
    "train.drop(columns=fully_corr_features, inplace=True)"
   ]
  },
  {
   "cell_type": "markdown",
   "metadata": {},
   "source": [
    "#### End of the Understanding Assignment and Dataset"
   ]
  },
  {
   "cell_type": "code",
   "execution_count": 33,
   "metadata": {},
   "outputs": [
    {
     "data": {
      "text/plain": [
       "(186588, 562)"
      ]
     },
     "execution_count": 33,
     "metadata": {},
     "output_type": "execute_result"
    }
   ],
   "source": [
    "train.shape"
   ]
  },
  {
   "cell_type": "code",
   "execution_count": 38,
   "metadata": {},
   "outputs": [],
   "source": [
    "filtered_column_names = list(train.columns)"
   ]
  },
  {
   "cell_type": "code",
   "execution_count": 37,
   "metadata": {},
   "outputs": [
    {
     "data": {
      "text/plain": [
       "['Stochastic',\n",
       " 'AsymmetricPiecesType',\n",
       " 'Team',\n",
       " 'Shape',\n",
       " 'SquareShape',\n",
       " 'HexShape',\n",
       " 'TriangleShape',\n",
       " 'DiamondShape',\n",
       " 'RectangleShape',\n",
       " 'StarShape',\n",
       " 'RegularShape',\n",
       " 'PolygonShape',\n",
       " 'Tiling',\n",
       " 'SquareTiling',\n",
       " 'HexTiling',\n",
       " 'TriangleTiling',\n",
       " 'SemiRegularTiling',\n",
       " 'MorrisTiling',\n",
       " 'CircleTiling',\n",
       " 'ConcentricTiling',\n",
       " 'SpiralTiling',\n",
       " 'AlquerqueTiling',\n",
       " 'MancalaStores',\n",
       " 'MancalaTwoRows',\n",
       " 'MancalaThreeRows',\n",
       " 'MancalaFourRows',\n",
       " 'MancalaSixRows',\n",
       " 'MancalaCircular',\n",
       " 'AlquerqueBoard',\n",
       " 'AlquerqueBoardWithOneTriangle',\n",
       " 'AlquerqueBoardWithTwoTriangles',\n",
       " 'AlquerqueBoardWithFourTriangles',\n",
       " 'AlquerqueBoardWithEightTriangles',\n",
       " 'ThreeMensMorrisBoard',\n",
       " 'ThreeMensMorrisBoardWithTwoTriangles',\n",
       " 'NineMensMorrisBoard',\n",
       " 'StarBoard',\n",
       " 'CrossBoard',\n",
       " 'KintsBoard',\n",
       " 'PachisiBoard',\n",
       " 'FortyStonesWithFourGapsBoard',\n",
       " 'Track',\n",
       " 'TrackLoop',\n",
       " 'TrackOwned',\n",
       " 'Region',\n",
       " 'Boardless',\n",
       " 'Vertex',\n",
       " 'Cell',\n",
       " 'Edge',\n",
       " 'NumPlayableSitesOnBoard',\n",
       " 'NumColumns',\n",
       " 'NumRows',\n",
       " 'NumCorners',\n",
       " 'NumDirections',\n",
       " 'NumOrthogonalDirections',\n",
       " 'NumDiagonalDirections',\n",
       " 'NumAdjacentDirections',\n",
       " 'NumOffDiagonalDirections',\n",
       " 'NumInnerSites',\n",
       " 'NumLayers',\n",
       " 'NumEdges',\n",
       " 'NumCells',\n",
       " 'NumVertices',\n",
       " 'NumPerimeterSites',\n",
       " 'NumTopSites',\n",
       " 'NumBottomSites',\n",
       " 'NumRightSites',\n",
       " 'NumLeftSites',\n",
       " 'NumCentreSites',\n",
       " 'NumConvexCorners',\n",
       " 'NumConcaveCorners',\n",
       " 'NumPhasesBoard',\n",
       " 'Hand',\n",
       " 'NumContainers',\n",
       " 'NumPlayableSites',\n",
       " 'Piece',\n",
       " 'PieceValue',\n",
       " 'PieceDirection',\n",
       " 'DiceD2',\n",
       " 'DiceD4',\n",
       " 'DiceD6',\n",
       " 'LargePiece',\n",
       " 'Tile',\n",
       " 'NumComponentsType',\n",
       " 'NumComponentsTypePerPlayer',\n",
       " 'NumDice',\n",
       " 'Meta',\n",
       " 'SwapOption',\n",
       " 'Repetition',\n",
       " 'TurnKo',\n",
       " 'PositionalSuperko',\n",
       " 'Start',\n",
       " 'PiecesPlacedOnBoard',\n",
       " 'PiecesPlacedOutsideBoard',\n",
       " 'InitialRandomPlacement',\n",
       " 'InitialScore',\n",
       " 'InitialCost',\n",
       " 'NumStartComponentsBoard',\n",
       " 'NumStartComponentsHand',\n",
       " 'NumStartComponents',\n",
       " 'Moves',\n",
       " 'MovesDecision',\n",
       " 'NoSiteMoves',\n",
       " 'VoteDecision',\n",
       " 'SwapPlayersDecision',\n",
       " 'SwapPlayersDecisionFrequency',\n",
       " 'PassDecision',\n",
       " 'PassDecisionFrequency',\n",
       " 'ProposeDecision',\n",
       " 'ProposeDecisionFrequency',\n",
       " 'SingleSiteMoves',\n",
       " 'AddDecision',\n",
       " 'AddDecisionFrequency',\n",
       " 'PromotionDecision',\n",
       " 'PromotionDecisionFrequency',\n",
       " 'RemoveDecision',\n",
       " 'RemoveDecisionFrequency',\n",
       " 'RotationDecision',\n",
       " 'TwoSitesMoves',\n",
       " 'StepDecision',\n",
       " 'StepDecisionFrequency',\n",
       " 'StepDecisionToEmpty',\n",
       " 'StepDecisionToEmptyFrequency',\n",
       " 'StepDecisionToFriend',\n",
       " 'StepDecisionToFriendFrequency',\n",
       " 'StepDecisionToEnemy',\n",
       " 'StepDecisionToEnemyFrequency',\n",
       " 'SlideDecision',\n",
       " 'SlideDecisionFrequency',\n",
       " 'SlideDecisionToEmpty',\n",
       " 'SlideDecisionToEmptyFrequency',\n",
       " 'SlideDecisionToEnemy',\n",
       " 'SlideDecisionToEnemyFrequency',\n",
       " 'SlideDecisionToFriend',\n",
       " 'SlideDecisionToFriendFrequency',\n",
       " 'LeapDecision',\n",
       " 'LeapDecisionFrequency',\n",
       " 'LeapDecisionToEmpty',\n",
       " 'LeapDecisionToEmptyFrequency',\n",
       " 'LeapDecisionToEnemy',\n",
       " 'LeapDecisionToEnemyFrequency',\n",
       " 'HopDecision',\n",
       " 'HopDecisionFrequency',\n",
       " 'HopDecisionMoreThanOne',\n",
       " 'HopDecisionMoreThanOneFrequency',\n",
       " 'HopDecisionEnemyToEmpty',\n",
       " 'HopDecisionEnemyToEmptyFrequency',\n",
       " 'HopDecisionFriendToEmpty',\n",
       " 'HopDecisionFriendToEmptyFrequency',\n",
       " 'HopDecisionFriendToFriendFrequency',\n",
       " 'HopDecisionEnemyToEnemy',\n",
       " 'HopDecisionEnemyToEnemyFrequency',\n",
       " 'HopDecisionFriendToEnemy',\n",
       " 'HopDecisionFriendToEnemyFrequency',\n",
       " 'FromToDecision',\n",
       " 'FromToDecisionFrequency',\n",
       " 'FromToDecisionWithinBoardFrequency',\n",
       " 'FromToDecisionBetweenContainersFrequency',\n",
       " 'FromToDecisionEmpty',\n",
       " 'FromToDecisionEmptyFrequency',\n",
       " 'FromToDecisionEnemy',\n",
       " 'FromToDecisionEnemyFrequency',\n",
       " 'FromToDecisionFriend',\n",
       " 'FromToDecisionFriendFrequency',\n",
       " 'SwapPiecesDecision',\n",
       " 'SwapPiecesDecisionFrequency',\n",
       " 'ShootDecision',\n",
       " 'MovesNonDecision',\n",
       " 'MovesEffects',\n",
       " 'VoteEffect',\n",
       " 'SwapPlayersEffect',\n",
       " 'PassEffect',\n",
       " 'Roll',\n",
       " 'RollFrequency',\n",
       " 'ProposeEffect',\n",
       " 'ProposeEffectFrequency',\n",
       " 'AddEffect',\n",
       " 'AddEffectFrequency',\n",
       " 'SowFrequency',\n",
       " 'SowWithEffect',\n",
       " 'SowCapture',\n",
       " 'SowCaptureFrequency',\n",
       " 'SowRemove',\n",
       " 'SowRemoveFrequency',\n",
       " 'SowBacktracking',\n",
       " 'SowBacktrackingFrequency',\n",
       " 'SowSkip',\n",
       " 'SowOriginFirst',\n",
       " 'SowCW',\n",
       " 'SowCCW',\n",
       " 'PromotionEffect',\n",
       " 'PromotionEffectFrequency',\n",
       " 'RemoveEffect',\n",
       " 'RemoveEffectFrequency',\n",
       " 'PushEffect',\n",
       " 'PushEffectFrequency',\n",
       " 'Flip',\n",
       " 'FlipFrequency',\n",
       " 'SetMove',\n",
       " 'SetNextPlayer',\n",
       " 'SetNextPlayerFrequency',\n",
       " 'MoveAgain',\n",
       " 'MoveAgainFrequency',\n",
       " 'SetValue',\n",
       " 'SetValueFrequency',\n",
       " 'SetCount',\n",
       " 'SetCountFrequency',\n",
       " 'SetRotation',\n",
       " 'StepEffect',\n",
       " 'SlideEffect',\n",
       " 'LeapEffect',\n",
       " 'HopEffect',\n",
       " 'FromToEffect',\n",
       " 'MovesOperators',\n",
       " 'Priority',\n",
       " 'ByDieMove',\n",
       " 'MaxMovesInTurn',\n",
       " 'MaxDistance',\n",
       " 'Capture',\n",
       " 'ReplacementCapture',\n",
       " 'ReplacementCaptureFrequency',\n",
       " 'HopCapture',\n",
       " 'HopCaptureFrequency',\n",
       " 'HopCaptureMoreThanOne',\n",
       " 'HopCaptureMoreThanOneFrequency',\n",
       " 'DirectionCapture',\n",
       " 'DirectionCaptureFrequency',\n",
       " 'EncloseCapture',\n",
       " 'EncloseCaptureFrequency',\n",
       " 'CustodialCapture',\n",
       " 'CustodialCaptureFrequency',\n",
       " 'InterveneCapture',\n",
       " 'InterveneCaptureFrequency',\n",
       " 'SurroundCapture',\n",
       " 'SurroundCaptureFrequency',\n",
       " 'CaptureSequence',\n",
       " 'CaptureSequenceFrequency',\n",
       " 'Conditions',\n",
       " 'SpaceConditions',\n",
       " 'Line',\n",
       " 'Connection',\n",
       " 'Group',\n",
       " 'Contains',\n",
       " 'Pattern',\n",
       " 'Fill',\n",
       " 'Distance',\n",
       " 'MoveConditions',\n",
       " 'NoMoves',\n",
       " 'NoMovesMover',\n",
       " 'NoMovesNext',\n",
       " 'CanMove',\n",
       " 'CanNotMove',\n",
       " 'PieceConditions',\n",
       " 'NoPiece',\n",
       " 'NoPieceMover',\n",
       " 'NoPieceNext',\n",
       " 'NoTargetPiece',\n",
       " 'Threat',\n",
       " 'IsEmpty',\n",
       " 'IsEnemy',\n",
       " 'IsFriend',\n",
       " 'IsPieceAt',\n",
       " 'LineOfSight',\n",
       " 'CountPiecesComparison',\n",
       " 'CountPiecesMoverComparison',\n",
       " 'CountPiecesNextComparison',\n",
       " 'ProgressCheck',\n",
       " 'Directions',\n",
       " 'AbsoluteDirections',\n",
       " 'AllDirections',\n",
       " 'AdjacentDirection',\n",
       " 'OrthogonalDirection',\n",
       " 'DiagonalDirection',\n",
       " 'RotationalDirection',\n",
       " 'SameLayerDirection',\n",
       " 'RelativeDirections',\n",
       " 'ForwardDirection',\n",
       " 'BackwardDirection',\n",
       " 'ForwardsDirection',\n",
       " 'BackwardsDirection',\n",
       " 'LeftwardDirection',\n",
       " 'LeftwardsDirection',\n",
       " 'ForwardRightDirection',\n",
       " 'BackwardRightDirection',\n",
       " 'SameDirection',\n",
       " 'OppositeDirection',\n",
       " 'Phase',\n",
       " 'NumPlayPhase',\n",
       " 'Scoring',\n",
       " 'PieceCount',\n",
       " 'SumDice',\n",
       " 'SpaceEnd',\n",
       " 'LineEnd',\n",
       " 'LineEndFrequency',\n",
       " 'LineWin',\n",
       " 'LineWinFrequency',\n",
       " 'LineLoss',\n",
       " 'LineLossFrequency',\n",
       " 'LineDraw',\n",
       " 'ConnectionEnd',\n",
       " 'ConnectionEndFrequency',\n",
       " 'ConnectionWin',\n",
       " 'ConnectionWinFrequency',\n",
       " 'ConnectionLoss',\n",
       " 'ConnectionLossFrequency',\n",
       " 'GroupEnd',\n",
       " 'GroupEndFrequency',\n",
       " 'GroupWin',\n",
       " 'GroupWinFrequency',\n",
       " 'GroupLoss',\n",
       " 'GroupDraw',\n",
       " 'LoopEnd',\n",
       " 'LoopWin',\n",
       " 'LoopWinFrequency',\n",
       " 'PatternWin',\n",
       " 'PatternWinFrequency',\n",
       " 'PathExtentLoss',\n",
       " 'TerritoryWin',\n",
       " 'TerritoryWinFrequency',\n",
       " 'CaptureEnd',\n",
       " 'Checkmate',\n",
       " 'CheckmateFrequency',\n",
       " 'CheckmateWin',\n",
       " 'CheckmateWinFrequency',\n",
       " 'NoTargetPieceEnd',\n",
       " 'NoTargetPieceEndFrequency',\n",
       " 'NoTargetPieceWin',\n",
       " 'NoTargetPieceWinFrequency',\n",
       " 'EliminatePiecesEnd',\n",
       " 'EliminatePiecesEndFrequency',\n",
       " 'EliminatePiecesWin',\n",
       " 'EliminatePiecesWinFrequency',\n",
       " 'EliminatePiecesLoss',\n",
       " 'EliminatePiecesLossFrequency',\n",
       " 'EliminatePiecesDraw',\n",
       " 'EliminatePiecesDrawFrequency',\n",
       " 'RaceEnd',\n",
       " 'NoOwnPiecesEnd',\n",
       " 'NoOwnPiecesEndFrequency',\n",
       " 'NoOwnPiecesWin',\n",
       " 'NoOwnPiecesWinFrequency',\n",
       " 'NoOwnPiecesLoss',\n",
       " 'NoOwnPiecesLossFrequency',\n",
       " 'FillEnd',\n",
       " 'FillEndFrequency',\n",
       " 'FillWin',\n",
       " 'FillWinFrequency',\n",
       " 'ReachEnd',\n",
       " 'ReachEndFrequency',\n",
       " 'ReachWin',\n",
       " 'ReachWinFrequency',\n",
       " 'ReachLoss',\n",
       " 'ReachLossFrequency',\n",
       " 'ReachDraw',\n",
       " 'ReachDrawFrequency',\n",
       " 'ScoringEnd',\n",
       " 'ScoringEndFrequency',\n",
       " 'ScoringWin',\n",
       " 'ScoringWinFrequency',\n",
       " 'ScoringLoss',\n",
       " 'ScoringLossFrequency',\n",
       " 'ScoringDraw',\n",
       " 'NoMovesEnd',\n",
       " 'NoMovesEndFrequency',\n",
       " 'NoMovesWin',\n",
       " 'NoMovesWinFrequency',\n",
       " 'NoMovesLoss',\n",
       " 'NoMovesLossFrequency',\n",
       " 'NoMovesDraw',\n",
       " 'NoMovesDrawFrequency',\n",
       " 'NoProgressEnd',\n",
       " 'NoProgressDraw',\n",
       " 'NoProgressDrawFrequency',\n",
       " 'Draw',\n",
       " 'DrawFrequency',\n",
       " 'Misere',\n",
       " 'DurationActions',\n",
       " 'DurationMoves',\n",
       " 'DurationTurns',\n",
       " 'DurationTurnsStdDev',\n",
       " 'DurationTurnsNotTimeouts',\n",
       " 'DecisionMoves',\n",
       " 'GameTreeComplexity',\n",
       " 'StateTreeComplexity',\n",
       " 'BoardCoverageDefault',\n",
       " 'BoardCoverageFull',\n",
       " 'BoardCoverageUsed',\n",
       " 'AdvantageP1',\n",
       " 'Balance',\n",
       " 'Completion',\n",
       " 'Drawishness',\n",
       " 'Timeouts',\n",
       " 'OutcomeUniformity',\n",
       " 'BoardSitesOccupiedAverage',\n",
       " 'BoardSitesOccupiedMedian',\n",
       " 'BoardSitesOccupiedMaximum',\n",
       " 'BoardSitesOccupiedVariance',\n",
       " 'BoardSitesOccupiedChangeAverage',\n",
       " 'BoardSitesOccupiedChangeSign',\n",
       " 'BoardSitesOccupiedChangeLineBestFit',\n",
       " 'BoardSitesOccupiedChangeNumTimes',\n",
       " 'BoardSitesOccupiedMaxIncrease',\n",
       " 'BoardSitesOccupiedMaxDecrease',\n",
       " 'BranchingFactorAverage',\n",
       " 'BranchingFactorMedian',\n",
       " 'BranchingFactorMaximum',\n",
       " 'BranchingFactorVariance',\n",
       " 'BranchingFactorChangeAverage',\n",
       " 'BranchingFactorChangeSign',\n",
       " 'BranchingFactorChangeLineBestFit',\n",
       " 'BranchingFactorChangeNumTimesn',\n",
       " 'BranchingFactorChangeMaxIncrease',\n",
       " 'BranchingFactorChangeMaxDecrease',\n",
       " 'DecisionFactorAverage',\n",
       " 'DecisionFactorMedian',\n",
       " 'DecisionFactorMaximum',\n",
       " 'DecisionFactorVariance',\n",
       " 'DecisionFactorChangeAverage',\n",
       " 'DecisionFactorChangeSign',\n",
       " 'DecisionFactorChangeLineBestFit',\n",
       " 'DecisionFactorChangeNumTimes',\n",
       " 'DecisionFactorMaxIncrease',\n",
       " 'DecisionFactorMaxDecrease',\n",
       " 'MoveDistanceAverage',\n",
       " 'MoveDistanceMedian',\n",
       " 'MoveDistanceMaximum',\n",
       " 'MoveDistanceVariance',\n",
       " 'MoveDistanceChangeAverage',\n",
       " 'MoveDistanceChangeSign',\n",
       " 'MoveDistanceChangeLineBestFit',\n",
       " 'MoveDistanceChangeNumTimes',\n",
       " 'MoveDistanceMaxIncrease',\n",
       " 'MoveDistanceMaxDecrease',\n",
       " 'PieceNumberAverage',\n",
       " 'PieceNumberMedian',\n",
       " 'PieceNumberMaximum',\n",
       " 'PieceNumberVariance',\n",
       " 'PieceNumberChangeAverage',\n",
       " 'PieceNumberChangeSign',\n",
       " 'PieceNumberChangeLineBestFit',\n",
       " 'PieceNumberChangeNumTimes',\n",
       " 'PieceNumberMaxIncrease',\n",
       " 'PieceNumberMaxDecrease',\n",
       " 'ScoreDifferenceAverage',\n",
       " 'ScoreDifferenceMedian',\n",
       " 'ScoreDifferenceMaximum',\n",
       " 'ScoreDifferenceVariance',\n",
       " 'ScoreDifferenceChangeAverage',\n",
       " 'ScoreDifferenceChangeSign',\n",
       " 'ScoreDifferenceChangeLineBestFit',\n",
       " 'ScoreDifferenceMaxIncrease',\n",
       " 'ScoreDifferenceMaxDecrease',\n",
       " 'Math',\n",
       " 'Arithmetic',\n",
       " 'Operations',\n",
       " 'Addition',\n",
       " 'Subtraction',\n",
       " 'Multiplication',\n",
       " 'Division',\n",
       " 'Modulo',\n",
       " 'Absolute',\n",
       " 'Exponentiation',\n",
       " 'Minimum',\n",
       " 'Maximum',\n",
       " 'Comparison',\n",
       " 'Equal',\n",
       " 'NotEqual',\n",
       " 'LesserThan',\n",
       " 'LesserThanOrEqual',\n",
       " 'GreaterThan',\n",
       " 'GreaterThanOrEqual',\n",
       " 'Parity',\n",
       " 'Even',\n",
       " 'Odd',\n",
       " 'Logic',\n",
       " 'Conjunction',\n",
       " 'Disjunction',\n",
       " 'Negation',\n",
       " 'Set',\n",
       " 'Union',\n",
       " 'Intersection',\n",
       " 'Complement',\n",
       " 'Algorithmics',\n",
       " 'ConditionalStatement',\n",
       " 'ControlFlowStatement',\n",
       " 'Visual',\n",
       " 'Style',\n",
       " 'BoardStyle',\n",
       " 'GraphStyle',\n",
       " 'ChessStyle',\n",
       " 'GoStyle',\n",
       " 'MancalaStyle',\n",
       " 'PenAndPaperStyle',\n",
       " 'ShibumiStyle',\n",
       " 'BackgammonStyle',\n",
       " 'JanggiStyle',\n",
       " 'XiangqiStyle',\n",
       " 'ShogiStyle',\n",
       " 'TableStyle',\n",
       " 'SurakartaStyle',\n",
       " 'TaflStyle',\n",
       " 'NoBoard',\n",
       " 'ComponentStyle',\n",
       " 'AnimalComponent',\n",
       " 'ChessComponent',\n",
       " 'KingComponent',\n",
       " 'QueenComponent',\n",
       " 'KnightComponent',\n",
       " 'RookComponent',\n",
       " 'BishopComponent',\n",
       " 'PawnComponent',\n",
       " 'FairyChessComponent',\n",
       " 'PloyComponent',\n",
       " 'ShogiComponent',\n",
       " 'XiangqiComponent',\n",
       " 'StrategoComponent',\n",
       " 'JanggiComponent',\n",
       " 'CheckersComponent',\n",
       " 'BallComponent',\n",
       " 'TaflComponent',\n",
       " 'DiscComponent',\n",
       " 'MarkerComponent',\n",
       " 'StackType',\n",
       " 'Stack',\n",
       " 'Symbols',\n",
       " 'ShowPieceValue',\n",
       " 'ShowPieceState',\n",
       " 'Implementation',\n",
       " 'State',\n",
       " 'StackState',\n",
       " 'PieceState',\n",
       " 'SiteState',\n",
       " 'SetSiteState',\n",
       " 'VisitedSites',\n",
       " 'Variable',\n",
       " 'SetVar',\n",
       " 'RememberValues',\n",
       " 'ForgetValues',\n",
       " 'SetPending',\n",
       " 'InternalCounter',\n",
       " 'SetInternalCounter',\n",
       " 'PlayerValue',\n",
       " 'Efficiency',\n",
       " 'CopyContext',\n",
       " 'Then',\n",
       " 'ForEachPiece',\n",
       " 'DoLudeme',\n",
       " 'Trigger',\n",
       " 'PlayoutsPerSecond',\n",
       " 'MovesPerSecond',\n",
       " 'num_wins_agent1',\n",
       " 'num_draws_agent1',\n",
       " 'num_losses_agent1',\n",
       " 'utility_agent1',\n",
       " 'p1_selection',\n",
       " 'p1_exploration',\n",
       " 'p1_playout',\n",
       " 'p1_bounds',\n",
       " 'p2_selection',\n",
       " 'p2_exploration',\n",
       " 'p2_playout',\n",
       " 'p2_bounds']"
      ]
     },
     "execution_count": 37,
     "metadata": {},
     "output_type": "execute_result"
    }
   ],
   "source": [
    "# Filtered features in one line\n",
    "[\"Stochastic\", \"AsymmetricPiecesType\", \"Team\", \"Shape\", \"SquareShape\", \"HexShape\", \"TriangleShape\", \"DiamondShape\", \"RectangleShape\", \"StarShape\", \"RegularShape\", \"PolygonShape\", \"Tiling\", \"SquareTiling\", \"HexTiling\", \"TriangleTiling\", \"SemiRegularTiling\", \"MorrisTiling\", \"CircleTiling\", \"ConcentricTiling\", \"SpiralTiling\", \"AlquerqueTiling\", \"MancalaStores\", \"MancalaTwoRows\", \"MancalaThreeRows\", \"MancalaFourRows\", \"MancalaSixRows\", \"MancalaCircular\", \"AlquerqueBoard\", \"AlquerqueBoardWithOneTriangle\", \"AlquerqueBoardWithTwoTriangles\", \"AlquerqueBoardWithFourTriangles\", \"AlquerqueBoardWithEightTriangles\", \"ThreeMensMorrisBoard\", \"ThreeMensMorrisBoardWithTwoTriangles\", \"NineMensMorrisBoard\", \"StarBoard\", \"CrossBoard\", \"KintsBoard\", \"PachisiBoard\", \"FortyStonesWithFourGapsBoard\", \"Track\", \"TrackLoop\", \"TrackOwned\", \"Region\", \"Boardless\", \"Vertex\", \"Cell\", \"Edge\", \"NumPlayableSitesOnBoard\", \"NumColumns\", \"NumRows\", \"NumCorners\", \"NumDirections\", \"NumOrthogonalDirections\", \"NumDiagonalDirections\", \"NumAdjacentDirections\", \"NumOffDiagonalDirections\", \"NumInnerSites\", \"NumLayers\", \"NumEdges\", \"NumCells\", \"NumVertices\", \"NumPerimeterSites\", \"NumTopSites\", \"NumBottomSites\", \"NumRightSites\", \"NumLeftSites\", \"NumCentreSites\", \"NumConvexCorners\", \"NumConcaveCorners\", \"NumPhasesBoard\", \"Hand\", \"NumContainers\", \"NumPlayableSites\", \"Piece\", \"PieceValue\", \"PieceDirection\", \"DiceD2\", \"DiceD4\", \"DiceD6\", \"LargePiece\", \"Tile\", \"NumComponentsType\", \"NumComponentsTypePerPlayer\", \"NumDice\", \"Meta\", \"SwapOption\", \"Repetition\", \"TurnKo\", \"PositionalSuperko\", \"Start\", \"PiecesPlacedOnBoard\", \"PiecesPlacedOutsideBoard\", \"InitialRandomPlacement\", \"InitialScore\", \"InitialCost\", \"NumStartComponentsBoard\", \"NumStartComponentsHand\", \"NumStartComponents\", \"Moves\", \"MovesDecision\", \"NoSiteMoves\", \"VoteDecision\", \"SwapPlayersDecision\", \"SwapPlayersDecisionFrequency\", \"PassDecision\", \"PassDecisionFrequency\", \"ProposeDecision\", \"ProposeDecisionFrequency\", \"SingleSiteMoves\", \"AddDecision\", \"AddDecisionFrequency\", \"PromotionDecision\", \"PromotionDecisionFrequency\", \"RemoveDecision\", \"RemoveDecisionFrequency\", \"RotationDecision\", \"TwoSitesMoves\", \"StepDecision\", \"StepDecisionFrequency\", \"StepDecisionToEmpty\", \"StepDecisionToEmptyFrequency\", \"StepDecisionToFriend\", \"StepDecisionToFriendFrequency\", \"StepDecisionToEnemy\", \"StepDecisionToEnemyFrequency\", \"SlideDecision\", \"SlideDecisionFrequency\", \"SlideDecisionToEmpty\", \"SlideDecisionToEmptyFrequency\", \"SlideDecisionToEnemy\", \"SlideDecisionToEnemyFrequency\", \"SlideDecisionToFriend\", \"SlideDecisionToFriendFrequency\", \"LeapDecision\", \"LeapDecisionFrequency\", \"LeapDecisionToEmpty\", \"LeapDecisionToEmptyFrequency\", \"LeapDecisionToEnemy\", \"LeapDecisionToEnemyFrequency\", \"HopDecision\", \"HopDecisionFrequency\", \"HopDecisionMoreThanOne\", \"HopDecisionMoreThanOneFrequency\", \"HopDecisionEnemyToEmpty\", \"HopDecisionEnemyToEmptyFrequency\", \"HopDecisionFriendToEmpty\", \"HopDecisionFriendToEmptyFrequency\", \"HopDecisionFriendToFriendFrequency\", \"HopDecisionEnemyToEnemy\", \"HopDecisionEnemyToEnemyFrequency\", \"HopDecisionFriendToEnemy\", \"HopDecisionFriendToEnemyFrequency\", \"FromToDecision\", \"FromToDecisionFrequency\", \"FromToDecisionWithinBoardFrequency\", \"FromToDecisionBetweenContainersFrequency\", \"FromToDecisionEmpty\", \"FromToDecisionEmptyFrequency\", \"FromToDecisionEnemy\", \"FromToDecisionEnemyFrequency\", \"FromToDecisionFriend\", \"FromToDecisionFriendFrequency\", \"SwapPiecesDecision\", \"SwapPiecesDecisionFrequency\", \"ShootDecision\", \"MovesNonDecision\", \"MovesEffects\", \"VoteEffect\", \"SwapPlayersEffect\", \"PassEffect\", \"Roll\", \"RollFrequency\", \"ProposeEffect\", \"ProposeEffectFrequency\", \"AddEffect\", \"AddEffectFrequency\", \"SowFrequency\", \"SowWithEffect\", \"SowCapture\", \"SowCaptureFrequency\", \"SowRemove\", \"SowRemoveFrequency\", \"SowBacktracking\", \"SowBacktrackingFrequency\", \"SowSkip\", \"SowOriginFirst\", \"SowCW\", \"SowCCW\", \"PromotionEffect\", \"PromotionEffectFrequency\", \"RemoveEffect\", \"RemoveEffectFrequency\", \"PushEffect\", \"PushEffectFrequency\", \"Flip\", \"FlipFrequency\", \"SetMove\", \"SetNextPlayer\", \"SetNextPlayerFrequency\", \"MoveAgain\", \"MoveAgainFrequency\", \"SetValue\", \"SetValueFrequency\", \"SetCount\", \"SetCountFrequency\", \"SetRotation\", \"StepEffect\", \"SlideEffect\", \"LeapEffect\", \"HopEffect\", \"FromToEffect\", \"MovesOperators\", \"Priority\", \"ByDieMove\", \"MaxMovesInTurn\", \"MaxDistance\", \"Capture\", \"ReplacementCapture\", \"ReplacementCaptureFrequency\", \"HopCapture\", \"HopCaptureFrequency\", \"HopCaptureMoreThanOne\", \"HopCaptureMoreThanOneFrequency\", \"DirectionCapture\", \"DirectionCaptureFrequency\", \"EncloseCapture\", \"EncloseCaptureFrequency\", \"CustodialCapture\", \"CustodialCaptureFrequency\", \"InterveneCapture\", \"InterveneCaptureFrequency\", \"SurroundCapture\", \"SurroundCaptureFrequency\", \"CaptureSequence\", \"CaptureSequenceFrequency\", \"Conditions\", \"SpaceConditions\", \"Line\", \"Connection\", \"Group\", \"Contains\", \"Pattern\", \"Fill\", \"Distance\", \"MoveConditions\", \"NoMoves\", \"NoMovesMover\", \"NoMovesNext\", \"CanMove\", \"CanNotMove\", \"PieceConditions\", \"NoPiece\", \"NoPieceMover\", \"NoPieceNext\", \"NoTargetPiece\", \"Threat\", \"IsEmpty\", \"IsEnemy\", \"IsFriend\", \"IsPieceAt\", \"LineOfSight\", \"CountPiecesComparison\", \"CountPiecesMoverComparison\", \"CountPiecesNextComparison\", \"ProgressCheck\", \"Directions\", \"AbsoluteDirections\", \"AllDirections\", \"AdjacentDirection\", \"OrthogonalDirection\", \"DiagonalDirection\", \"RotationalDirection\", \"SameLayerDirection\", \"RelativeDirections\", \"ForwardDirection\", \"BackwardDirection\", \"ForwardsDirection\", \"BackwardsDirection\", \"LeftwardDirection\", \"LeftwardsDirection\", \"ForwardRightDirection\", \"BackwardRightDirection\", \"SameDirection\", \"OppositeDirection\", \"Phase\", \"NumPlayPhase\", \"Scoring\", \"PieceCount\", \"SumDice\", \"SpaceEnd\", \"LineEnd\", \"LineEndFrequency\", \"LineWin\", \"LineWinFrequency\", \"LineLoss\", \"LineLossFrequency\", \"LineDraw\", \"ConnectionEnd\", \"ConnectionEndFrequency\", \"ConnectionWin\", \"ConnectionWinFrequency\", \"ConnectionLoss\", \"ConnectionLossFrequency\", \"GroupEnd\", \"GroupEndFrequency\", \"GroupWin\", \"GroupWinFrequency\", \"GroupLoss\", \"GroupDraw\", \"LoopEnd\", \"LoopWin\", \"LoopWinFrequency\", \"PatternWin\", \"PatternWinFrequency\", \"PathExtentLoss\", \"TerritoryWin\", \"TerritoryWinFrequency\", \"CaptureEnd\", \"Checkmate\", \"CheckmateFrequency\", \"CheckmateWin\", \"CheckmateWinFrequency\", \"NoTargetPieceEnd\", \"NoTargetPieceEndFrequency\", \"NoTargetPieceWin\", \"NoTargetPieceWinFrequency\", \"EliminatePiecesEnd\", \"EliminatePiecesEndFrequency\", \"EliminatePiecesWin\", \"EliminatePiecesWinFrequency\", \"EliminatePiecesLoss\", \"EliminatePiecesLossFrequency\", \"EliminatePiecesDraw\", \"EliminatePiecesDrawFrequency\", \"RaceEnd\", \"NoOwnPiecesEnd\", \"NoOwnPiecesEndFrequency\", \"NoOwnPiecesWin\", \"NoOwnPiecesWinFrequency\", \"NoOwnPiecesLoss\", \"NoOwnPiecesLossFrequency\", \"FillEnd\", \"FillEndFrequency\", \"FillWin\", \"FillWinFrequency\", \"ReachEnd\", \"ReachEndFrequency\", \"ReachWin\", \"ReachWinFrequency\", \"ReachLoss\", \"ReachLossFrequency\", \"ReachDraw\", \"ReachDrawFrequency\", \"ScoringEnd\", \"ScoringEndFrequency\", \"ScoringWin\", \"ScoringWinFrequency\", \"ScoringLoss\", \"ScoringLossFrequency\", \"ScoringDraw\", \"NoMovesEnd\", \"NoMovesEndFrequency\", \"NoMovesWin\", \"NoMovesWinFrequency\", \"NoMovesLoss\", \"NoMovesLossFrequency\", \"NoMovesDraw\", \"NoMovesDrawFrequency\", \"NoProgressEnd\", \"NoProgressDraw\", \"NoProgressDrawFrequency\", \"Draw\", \"DrawFrequency\", \"Misere\", \"DurationActions\", \"DurationMoves\", \"DurationTurns\", \"DurationTurnsStdDev\", \"DurationTurnsNotTimeouts\", \"DecisionMoves\", \"GameTreeComplexity\", \"StateTreeComplexity\", \"BoardCoverageDefault\", \"BoardCoverageFull\", \"BoardCoverageUsed\", \"AdvantageP1\", \"Balance\", \"Completion\", \"Drawishness\", \"Timeouts\", \"OutcomeUniformity\", \"BoardSitesOccupiedAverage\", \"BoardSitesOccupiedMedian\", \"BoardSitesOccupiedMaximum\", \"BoardSitesOccupiedVariance\", \"BoardSitesOccupiedChangeAverage\", \"BoardSitesOccupiedChangeSign\", \"BoardSitesOccupiedChangeLineBestFit\", \"BoardSitesOccupiedChangeNumTimes\", \"BoardSitesOccupiedMaxIncrease\", \"BoardSitesOccupiedMaxDecrease\", \"BranchingFactorAverage\", \"BranchingFactorMedian\", \"BranchingFactorMaximum\", \"BranchingFactorVariance\", \"BranchingFactorChangeAverage\", \"BranchingFactorChangeSign\", \"BranchingFactorChangeLineBestFit\", \"BranchingFactorChangeNumTimesn\", \"BranchingFactorChangeMaxIncrease\", \"BranchingFactorChangeMaxDecrease\", \"DecisionFactorAverage\", \"DecisionFactorMedian\", \"DecisionFactorMaximum\", \"DecisionFactorVariance\", \"DecisionFactorChangeAverage\", \"DecisionFactorChangeSign\", \"DecisionFactorChangeLineBestFit\", \"DecisionFactorChangeNumTimes\", \"DecisionFactorMaxIncrease\", \"DecisionFactorMaxDecrease\", \"MoveDistanceAverage\", \"MoveDistanceMedian\", \"MoveDistanceMaximum\", \"MoveDistanceVariance\", \"MoveDistanceChangeAverage\", \"MoveDistanceChangeSign\", \"MoveDistanceChangeLineBestFit\", \"MoveDistanceChangeNumTimes\", \"MoveDistanceMaxIncrease\", \"MoveDistanceMaxDecrease\", \"PieceNumberAverage\", \"PieceNumberMedian\", \"PieceNumberMaximum\", \"PieceNumberVariance\", \"PieceNumberChangeAverage\", \"PieceNumberChangeSign\", \"PieceNumberChangeLineBestFit\", \"PieceNumberChangeNumTimes\", \"PieceNumberMaxIncrease\", \"PieceNumberMaxDecrease\", \"ScoreDifferenceAverage\", \"ScoreDifferenceMedian\", \"ScoreDifferenceMaximum\", \"ScoreDifferenceVariance\", \"ScoreDifferenceChangeAverage\", \"ScoreDifferenceChangeSign\", \"ScoreDifferenceChangeLineBestFit\", \"ScoreDifferenceMaxIncrease\", \"ScoreDifferenceMaxDecrease\", \"Math\", \"Arithmetic\", \"Operations\", \"Addition\", \"Subtraction\", \"Multiplication\", \"Division\", \"Modulo\", \"Absolute\", \"Exponentiation\", \"Minimum\", \"Maximum\", \"Comparison\", \"Equal\", \"NotEqual\", \"LesserThan\", \"LesserThanOrEqual\", \"GreaterThan\", \"GreaterThanOrEqual\", \"Parity\", \"Even\", \"Odd\", \"Logic\", \"Conjunction\", \"Disjunction\", \"Negation\", \"Set\", \"Union\", \"Intersection\", \"Complement\", \"Algorithmics\", \"ConditionalStatement\", \"ControlFlowStatement\", \"Visual\", \"Style\", \"BoardStyle\", \"GraphStyle\", \"ChessStyle\", \"GoStyle\", \"MancalaStyle\", \"PenAndPaperStyle\", \"ShibumiStyle\", \"BackgammonStyle\", \"JanggiStyle\", \"XiangqiStyle\", \"ShogiStyle\", \"TableStyle\", \"SurakartaStyle\", \"TaflStyle\", \"NoBoard\", \"ComponentStyle\", \"AnimalComponent\", \"ChessComponent\", \"KingComponent\", \"QueenComponent\", \"KnightComponent\", \"RookComponent\", \"BishopComponent\", \"PawnComponent\", \"FairyChessComponent\", \"PloyComponent\", \"ShogiComponent\", \"XiangqiComponent\", \"StrategoComponent\", \"JanggiComponent\", \"CheckersComponent\", \"BallComponent\", \"TaflComponent\", \"DiscComponent\", \"MarkerComponent\", \"StackType\", \"Stack\", \"Symbols\", \"ShowPieceValue\", \"ShowPieceState\", \"Implementation\", \"State\", \"StackState\", \"PieceState\", \"SiteState\", \"SetSiteState\", \"VisitedSites\", \"Variable\", \"SetVar\", \"RememberValues\", \"ForgetValues\", \"SetPending\", \"InternalCounter\", \"SetInternalCounter\", \"PlayerValue\", \"Efficiency\", \"CopyContext\", \"Then\", \"ForEachPiece\", \"DoLudeme\", \"Trigger\", \"PlayoutsPerSecond\", \"MovesPerSecond\", \"num_wins_agent1\", \"num_draws_agent1\", \"num_losses_agent1\", \"utility_agent1\", \"p1_selection\", \"p1_exploration\", \"p1_playout\", \"p1_bounds\", \"p2_selection\", \"p2_exploration\", \"p2_playout\", \"p2_bounds\"]"
   ]
  }
 ],
 "metadata": {
  "kernelspec": {
   "display_name": "Python 3",
   "language": "python",
   "name": "python3"
  },
  "language_info": {
   "codemirror_mode": {
    "name": "ipython",
    "version": 3
   },
   "file_extension": ".py",
   "mimetype": "text/x-python",
   "name": "python",
   "nbconvert_exporter": "python",
   "pygments_lexer": "ipython3",
   "version": "3.10.12"
  }
 },
 "nbformat": 4,
 "nbformat_minor": 2
}
