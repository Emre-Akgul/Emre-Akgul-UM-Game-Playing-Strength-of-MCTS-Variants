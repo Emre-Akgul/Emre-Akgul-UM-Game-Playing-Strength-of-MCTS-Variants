{
 "cells": [
  {
   "cell_type": "markdown",
   "metadata": {},
   "source": [
    "# Feature Elimination"
   ]
  },
  {
   "cell_type": "markdown",
   "metadata": {},
   "source": [
    "## 1- Initial Preprocessing"
   ]
  },
  {
   "cell_type": "code",
   "execution_count": 1,
   "metadata": {},
   "outputs": [],
   "source": [
    "import numpy as np\n",
    "import pandas as pd\n",
    "\n",
    "import sys\n",
    "import os\n",
    "sys.path.append(os.path.abspath('../'))\n",
    "\n",
    "from Models.LinearRegression import LinearRegression\n",
    "from Utils.Preprocessor import Preprocessor\n",
    "from Utils.Utils import root_mean_squared_error, train_test_split, initial_preprocessing\n",
    "from Utils.FeatureEliminators.VarianceEliminator import VarianceEliminator\n",
    "from Utils.FeatureEliminators.CorrelationEliminator import CorrelationEliminator\n",
    "from Utils.FeatureEliminators.LassoEliminator import LassoEliminator"
   ]
  },
  {
   "cell_type": "code",
   "execution_count": 2,
   "metadata": {},
   "outputs": [],
   "source": [
    "# Read the data\n",
    "train = pd.read_csv('../Data/train.csv', index_col='Id')"
   ]
  },
  {
   "cell_type": "code",
   "execution_count": 3,
   "metadata": {},
   "outputs": [],
   "source": [
    "# Remove unnecessary features based on exploratory data analysis part 1.\n",
    "train = initial_preprocessing(train)"
   ]
  },
  {
   "cell_type": "code",
   "execution_count": 4,
   "metadata": {},
   "outputs": [],
   "source": [
    "X = train.drop(columns=[\"num_wins_agent1\", \"num_draws_agent1\", \"num_losses_agent1\", \"utility_agent1\"], axis=1)\n",
    "y = train[\"utility_agent1\"]"
   ]
  },
  {
   "cell_type": "code",
   "execution_count": 5,
   "metadata": {},
   "outputs": [],
   "source": [
    "# Split the data into training and testing sets\n",
    "X_train, X_valid, y_train, y_valid= train_test_split(X, y, test_size=0.2, random_state=42)"
   ]
  },
  {
   "cell_type": "code",
   "execution_count": 6,
   "metadata": {},
   "outputs": [],
   "source": [
    "# Preprocess the data\n",
    "preprocessor = Preprocessor(normalize=True, one_hot_encode=True)\n",
    "\n",
    "X_train = preprocessor.fit_transform(X_train)\n",
    "X_train = pd.DataFrame(X_train, columns=preprocessor.get_column_names())\n",
    "\n",
    "X_valid = preprocessor.transform(X_valid)\n",
    "X_valid = pd.DataFrame(X_valid, columns=preprocessor.get_column_names())\n",
    "\n",
    "y_train.reset_index(drop=True, inplace=True)\n",
    "y_valid.reset_index(drop=True, inplace=True)"
   ]
  },
  {
   "cell_type": "markdown",
   "metadata": {},
   "source": [
    "# Reminder: Linear Regression Baseline\n",
    "Linear Regression: \\\n",
    "Train mean squared error:  0.5175135945021986 \\\n",
    "Validation mean squared error:  0.51911678407925\n"
   ]
  },
  {
   "cell_type": "markdown",
   "metadata": {},
   "source": [
    "## Method 1: Variance Thresholding"
   ]
  },
  {
   "cell_type": "markdown",
   "metadata": {},
   "source": [
    "#### Method 1 version 1"
   ]
  },
  {
   "cell_type": "code",
   "execution_count": 7,
   "metadata": {},
   "outputs": [],
   "source": [
    "variance_eliminator = VarianceEliminator(X_train, y_train, threshold=0.01)\n",
    "\n",
    "selected_features = variance_eliminator.get_feature_indices()\n",
    "variance_1_mask = variance_eliminator.get_feature_mask()\n",
    "\n",
    "X_train_var_1 = X_train.iloc[:, selected_features]\n",
    "X_test_var_1 = X_valid.iloc[:, selected_features]"
   ]
  },
  {
   "cell_type": "code",
   "execution_count": 8,
   "metadata": {},
   "outputs": [
    {
     "name": "stdout",
     "output_type": "stream",
     "text": [
      "Linear Regression: \n",
      "Number of used featues:  336\n",
      "Train mean squared error:  0.5306881182466742\n",
      "Validation mean squared error:  0.5315929002975792\n"
     ]
    }
   ],
   "source": [
    "# to numpy array\n",
    "X_train_var_1 = X_train_var_1.to_numpy()\n",
    "X_test_var_1 = X_test_var_1.to_numpy()\n",
    "\n",
    "lr_model = LinearRegression(fit_method=\"ols\", loss_function=\"rmse\")\n",
    "\n",
    "lr_model.fit(X_train_var_1, y_train)\n",
    "\n",
    "train_pred = lr_model.predict(X_train_var_1)\n",
    "test_pred = lr_model.predict(X_test_var_1)\n",
    "\n",
    "print(\"Linear Regression: \")\n",
    "print(\"Number of used featues: \", len(selected_features))\n",
    "print(\"Train mean squared error: \", root_mean_squared_error(y_train, train_pred))\n",
    "print(\"Validation mean squared error: \", root_mean_squared_error(y_valid, test_pred))"
   ]
  },
  {
   "cell_type": "markdown",
   "metadata": {},
   "source": [
    "#### Method 1 version 2"
   ]
  },
  {
   "cell_type": "code",
   "execution_count": 9,
   "metadata": {},
   "outputs": [],
   "source": [
    "variance_eliminator = VarianceEliminator(X_train, y_train, threshold=0.1)\n",
    "\n",
    "variance_2_selected_features = variance_eliminator.get_feature_indices()\n",
    "variance_2_mask = variance_eliminator.get_feature_mask()\n",
    "\n",
    "X_train_var_2 = X_train.iloc[:, variance_2_selected_features]\n",
    "X_test_var_2 = X_valid.iloc[:, variance_2_selected_features]"
   ]
  },
  {
   "cell_type": "code",
   "execution_count": 10,
   "metadata": {},
   "outputs": [
    {
     "name": "stdout",
     "output_type": "stream",
     "text": [
      "Linear Regression: \n",
      "Number of used featues:  135\n",
      "Train mean squared error:  0.5995919481377527\n",
      "Validation mean squared error:  0.6004933618410249\n"
     ]
    }
   ],
   "source": [
    "# to numpy array\n",
    "X_train_var_2 = X_train_var_2.to_numpy()\n",
    "X_test_var_2 = X_test_var_2.to_numpy()\n",
    "\n",
    "lr_model = LinearRegression(fit_method=\"ols\", loss_function=\"rmse\")\n",
    "\n",
    "lr_model.fit(X_train_var_2, y_train)\n",
    "\n",
    "train_pred = lr_model.predict(X_train_var_2)\n",
    "test_pred = lr_model.predict(X_test_var_2)\n",
    "\n",
    "print(\"Linear Regression: \")\n",
    "print(\"Number of used featues: \", len(variance_2_selected_features))\n",
    "print(\"Train mean squared error: \", root_mean_squared_error(y_train, train_pred))\n",
    "print(\"Validation mean squared error: \", root_mean_squared_error(y_valid, test_pred))"
   ]
  },
  {
   "cell_type": "markdown",
   "metadata": {},
   "source": [
    "## Method 2: Correlation Thresholding"
   ]
  },
  {
   "cell_type": "markdown",
   "metadata": {},
   "source": [
    "#### Method 2 Version 1"
   ]
  },
  {
   "cell_type": "code",
   "execution_count": 11,
   "metadata": {},
   "outputs": [],
   "source": [
    "correlation_eliminator_1 = CorrelationEliminator(X_train, y_train, correlation_threshold=0.01)\n",
    "\n",
    "corr_1_selected_features = correlation_eliminator_1.get_feature_indices()\n",
    "corr_1_mask = variance_eliminator.get_feature_mask()\n",
    "\n",
    "X_train_corr_1 = X_train.iloc[:, corr_1_selected_features]\n",
    "X_test_corr_1 = X_valid.iloc[:, corr_1_selected_features]"
   ]
  },
  {
   "cell_type": "code",
   "execution_count": 12,
   "metadata": {},
   "outputs": [
    {
     "name": "stdout",
     "output_type": "stream",
     "text": [
      "Linear Regression: \n",
      "Number of used featues:  269\n",
      "Train mean squared error:  0.5324470589299449\n",
      "Validation mean squared error:  0.5340079095469382\n"
     ]
    }
   ],
   "source": [
    "# to numpy array\n",
    "X_train_corr_1 = X_train_corr_1.to_numpy()\n",
    "X_test_corr_1 = X_test_corr_1.to_numpy()\n",
    "\n",
    "lr_model = LinearRegression(fit_method=\"ols\", loss_function=\"rmse\")\n",
    "\n",
    "lr_model.fit(X_train_corr_1, y_train)\n",
    "\n",
    "train_pred = lr_model.predict(X_train_corr_1)\n",
    "test_pred = lr_model.predict(X_test_corr_1)\n",
    "\n",
    "print(\"Linear Regression: \")\n",
    "print(\"Number of used featues: \", len(corr_1_selected_features))\n",
    "print(\"Train mean squared error: \", root_mean_squared_error(y_train, train_pred))\n",
    "print(\"Validation mean squared error: \", root_mean_squared_error(y_valid, test_pred))"
   ]
  },
  {
   "cell_type": "markdown",
   "metadata": {},
   "source": [
    "#### Method 2 Version 2"
   ]
  },
  {
   "cell_type": "code",
   "execution_count": 13,
   "metadata": {},
   "outputs": [],
   "source": [
    "correlation_eliminator_2 = CorrelationEliminator(X_train, y_train, correlation_threshold=0.03)\n",
    "\n",
    "corr_2_selected_features = correlation_eliminator_2.get_feature_indices()\n",
    "corr_2_mask = variance_eliminator.get_feature_mask()\n",
    "\n",
    "X_train_corr_2 = X_train.iloc[:, corr_2_selected_features]\n",
    "X_test_corr_2 = X_valid.iloc[:, corr_2_selected_features]"
   ]
  },
  {
   "cell_type": "code",
   "execution_count": 14,
   "metadata": {},
   "outputs": [
    {
     "name": "stdout",
     "output_type": "stream",
     "text": [
      "Linear Regression: \n",
      "Number of used featues:  76\n",
      "Train mean squared error:  0.5435803901515012\n",
      "Validation mean squared error:  0.5459862384342256\n"
     ]
    }
   ],
   "source": [
    "# to numpy array\n",
    "X_train_corr_2 = X_train_corr_2.to_numpy()\n",
    "X_test_corr_2 = X_test_corr_2.to_numpy()\n",
    "\n",
    "lr_model = LinearRegression(fit_method=\"ols\", loss_function=\"rmse\")\n",
    "\n",
    "lr_model.fit(X_train_corr_2, y_train)\n",
    "\n",
    "train_pred = lr_model.predict(X_train_corr_2)\n",
    "test_pred = lr_model.predict(X_test_corr_2)\n",
    "\n",
    "print(\"Linear Regression: \")\n",
    "print(\"Number of used featues: \", len(corr_2_selected_features))\n",
    "print(\"Train mean squared error: \", root_mean_squared_error(y_train, train_pred))\n",
    "print(\"Validation mean squared error: \", root_mean_squared_error(y_valid, test_pred))"
   ]
  },
  {
   "cell_type": "markdown",
   "metadata": {},
   "source": [
    "## Method 3: Lasso Eliminator"
   ]
  },
  {
   "cell_type": "code",
   "execution_count": 27,
   "metadata": {},
   "outputs": [
    {
     "name": "stdout",
     "output_type": "stream",
     "text": [
      "[-2.85036299e-02 -3.74651419e-02 -5.15764031e-02 -1.72190805e-01\n",
      " -2.40563418e-01 -1.38952880e-02 -1.93461113e-01 -1.19955814e-01\n",
      " -8.06209364e-02 -1.97545871e-01 -9.07825729e-02 -2.50226382e-01\n",
      " -1.06739467e-01 -8.37862165e-02 -4.60427213e-02 -6.19663740e-02\n",
      " -1.50473780e-01 -8.47370890e-02 -4.34359747e-02 -3.95762857e-02\n",
      " -7.77021546e-02 -4.91179241e-02 -2.00315561e-01 -9.32744169e-02\n",
      " -1.19097719e-01 -1.33614361e-01 -9.41745801e-02 -7.37853222e-02\n",
      " -5.79564366e-02 -2.81352860e-02 -1.71525566e-01 -7.41492203e-03\n",
      " -1.20348092e-01 -5.14040282e-02 -2.45440640e-03 -4.53417243e-05\n",
      " -1.36530249e-01 -1.13911056e-01 -1.65215537e-01 -1.39544671e-01\n",
      " -4.27981109e-02 -1.56968018e-01 -8.27118809e-02 -1.24678468e-01\n",
      " -1.24100653e-01 -1.32376008e-01 -9.66637144e-02 -2.33290195e-01\n",
      " -1.63326105e-02 -6.71271760e-02 -6.51948788e-02 -1.19597969e-01\n",
      " -1.90442437e-01 -3.23848321e-02 -6.74616565e-02 -1.38042307e-01\n",
      " -1.07623891e-01 -1.62338466e-01 -8.71742091e-02 -1.69414275e-01\n",
      " -1.05679898e-01 -1.15488812e-01 -9.71756407e-02 -1.09744950e-01\n",
      " -6.41713179e-02 -1.02455611e-01 -8.63807152e-02 -7.63861961e-02\n",
      " -1.67557995e-01 -4.46540672e-02 -1.65171894e-01 -1.40530054e-01\n",
      " -1.24362137e-01 -1.26141205e-01 -6.89415927e-02 -1.42777955e-01\n",
      " -2.95149931e-02 -1.13880008e-01 -1.20085724e-01 -1.26536745e-01\n",
      " -5.67315389e-02 -2.78201093e-03 -7.88488532e-02 -6.00660006e-02\n",
      " -5.49013155e-02 -1.86392970e-02 -5.87699806e-02 -1.51935679e-01\n",
      " -1.29105649e-01 -5.66475220e-02 -1.60792934e-01 -1.18262547e-01\n",
      " -1.52134458e-01 -5.97323079e-02 -1.69849875e-01 -7.52265603e-02\n",
      " -1.61346035e-01 -5.33364691e-02 -7.75062120e-02 -1.10801855e-01\n",
      " -2.61575309e-01 -2.42200492e-01 -4.71738361e-02 -1.50867914e-01\n",
      " -6.61854093e-02 -1.33384821e-01 -1.99990495e-01 -3.36177646e-02\n",
      " -1.13646064e-01 -8.04785317e-02 -8.74134085e-02 -1.41994074e-01\n",
      " -1.56828300e-01 -2.07359837e-01 -1.03502975e-01 -1.64031505e-01\n",
      " -8.81849801e-02 -1.35824866e-01 -1.92138288e-01 -1.96139682e-01\n",
      " -2.35472534e-01 -6.83337307e-02 -2.13537326e-01 -1.31769385e-01\n",
      " -1.43735854e-01 -1.65466407e-01 -7.68911673e-02 -3.64658433e-02\n",
      " -1.18904744e-01 -6.11173176e-02 -1.66532545e-01 -5.15216322e-02\n",
      " -1.31333095e-02 -1.42833895e-01 -7.81400399e-02 -1.38809673e-01\n",
      " -7.76434082e-02 -4.05041412e-02 -7.36255657e-02 -5.45824662e-02\n",
      " -1.06778608e-01 -2.91409100e-02 -1.70224099e-01 -1.22080939e-02\n",
      " -1.06228174e-01 -4.44753509e-02 -7.21182249e-02 -1.05630338e-01\n",
      " -1.54014705e-01 -1.67097378e-01 -1.97226188e-01 -9.85385180e-02\n",
      " -5.59973051e-02 -1.03424616e-01 -1.51990188e-01 -1.26625485e-01\n",
      " -1.54519546e-01 -1.08072173e-01 -2.00367151e-02 -1.39924589e-01\n",
      " -1.39019789e-01 -1.70629259e-02 -9.42289936e-02 -1.59513048e-01\n",
      " -1.85403210e-01 -8.36554541e-02 -3.92797140e-02 -2.31381974e-01\n",
      " -1.28546903e-01 -1.84416181e-01 -1.68168353e-01 -1.45171570e-01\n",
      " -1.53818828e-01 -1.83957445e-01 -1.42785635e-01 -1.04856187e-01\n",
      " -1.88071224e-01 -6.74599035e-02 -2.09863863e-01 -2.06615582e-01\n",
      " -9.36146160e-02 -1.23277187e-01 -1.15525617e-01 -1.53546367e-01\n",
      " -1.78389082e-01 -1.33795198e-01 -5.75960054e-02 -5.08771670e-02\n",
      " -9.00328393e-02 -1.09470162e-01 -5.83255154e-02 -1.50430340e-01\n",
      " -1.88933443e-01 -4.27413872e-02 -4.04743144e-02 -1.56806589e-01\n",
      " -1.05235719e-01 -1.86667335e-01 -8.54490229e-02 -1.75220644e-01\n",
      " -1.02169863e-01 -2.47865377e-01 -6.95719631e-02 -1.78305836e-01\n",
      " -1.10408500e-01 -1.53984545e-01 -7.76937583e-02 -1.57395045e-01\n",
      " -1.97144726e-01 -1.35091728e-02 -8.13879469e-02 -1.33292077e-01\n",
      " -1.85130890e-01 -6.45298745e-02 -5.15937788e-02 -1.96855555e-01\n",
      " -1.67012394e-01 -7.90946612e-02 -1.74032939e-01 -1.53490722e-01\n",
      " -5.11057955e-03 -1.24944173e-01 -5.62996051e-02 -9.33312238e-02\n",
      " -1.09217193e-01 -6.80099865e-02 -4.55671859e-02 -2.44438418e-03\n",
      " -1.31798370e-01 -4.92762405e-02 -1.43624885e-02 -1.07088783e-01\n",
      " -1.99722625e-01 -7.87623405e-02 -1.11506000e-02 -8.88025870e-03\n",
      " -1.20281310e-01 -2.63759982e-01 -2.29320935e-01 -1.68824927e-01\n",
      " -7.96525148e-02 -1.55467296e-02 -6.12084095e-02 -1.13008861e-01\n",
      " -1.60746150e-01 -1.06218498e-01 -1.80385752e-01 -6.13411405e-02\n",
      " -2.16695647e-01 -2.12857952e-01 -3.52224744e-02 -1.78473076e-01\n",
      " -1.98357010e-01 -5.65699581e-02 -9.54837790e-03 -2.07518663e-01\n",
      " -1.38282941e-01 -3.43626776e-02 -2.48219093e-01 -1.97405422e-01\n",
      " -1.55512197e-01 -8.94836042e-02 -1.83963496e-01 -1.73502393e-01\n",
      " -3.57107275e-02 -1.78688209e-01 -1.35746899e-01 -2.28971298e-01\n",
      " -2.23294141e-01 -3.92927804e-02 -1.54610125e-01 -9.44847668e-02\n",
      " -8.26928493e-02 -4.70177420e-02 -1.66750734e-01 -1.87463058e-01\n",
      " -1.80268965e-01 -1.14867544e-01 -3.29723071e-02 -7.61922394e-02\n",
      " -1.04190000e-01 -6.61080018e-02 -1.79956905e-01 -3.12031078e-02\n",
      " -1.26779640e-01 -2.91244823e-02 -1.53160853e-01 -1.07690805e-01\n",
      " -1.60606695e-01 -2.37001793e-01 -5.14153077e-02 -1.76831374e-01\n",
      " -1.80327961e-01 -1.00200300e-01 -1.15497524e-02 -1.55322036e-01\n",
      " -1.46368505e-01 -1.63079769e-01 -5.24072694e-02 -7.76835590e-02\n",
      " -3.35936729e-02 -1.79555291e-02 -1.21229740e-01 -7.03737752e-02\n",
      " -8.67940763e-02 -8.69543703e-02 -1.77577494e-01 -8.96480533e-02\n",
      " -1.96215978e-01 -9.92638668e-02 -1.06820146e-01 -9.04352888e-02\n",
      " -1.04489137e-01 -1.22906104e-01 -1.44676999e-01 -1.82313676e-01\n",
      " -1.29275701e-01 -1.07286691e-01 -1.66799967e-01 -1.41493954e-01\n",
      " -1.04556452e-01 -9.62812804e-02 -2.92997354e-02 -9.34583187e-02\n",
      " -1.81242543e-02 -9.76235777e-02 -1.12334427e-01 -1.94076527e-01\n",
      " -2.13574496e-01 -2.11190630e-01 -5.88108373e-02 -1.42199767e-01\n",
      " -1.86435730e-01 -1.64811325e-01 -1.41756033e-01 -1.38401963e-01\n",
      " -1.05483111e-01 -9.35427348e-02 -1.22022798e-01 -1.69174637e-01\n",
      " -8.69653283e-02 -5.15942759e-04 -1.14500457e-01 -1.75110108e-01\n",
      " -1.74950961e-01 -8.26331695e-02 -1.73231066e-01 -3.82301124e-02\n",
      " -4.73461608e-02 -2.04431301e-02 -1.33748881e-01 -1.14609647e-01\n",
      " -1.44244197e-01 -5.82564908e-02 -6.66972695e-02 -6.20638909e-02\n",
      " -1.43569567e-01 -1.01442319e-01 -1.42817168e-01 -1.75261767e-01\n",
      " -1.02819246e-01 -1.94162677e-01 -1.56314362e-01 -1.64048688e-01\n",
      " -2.06029555e-01 -3.60736450e-02 -1.92189765e-01 -1.59896367e-01\n",
      " -1.01185040e-01 -1.69491045e-01 -2.02015482e-02 -1.74935748e-01\n",
      " -8.90077499e-02 -1.41899745e-01 -6.86229604e-02 -1.70089615e-01\n",
      " -4.04581899e-02 -1.09867383e-01 -7.93899591e-02 -1.83848133e-01\n",
      " -5.73191073e-02 -1.95653937e-01 -1.70181357e-01 -9.13390081e-02\n",
      " -1.98803797e-01 -1.50806445e-01 -1.03488921e-01 -1.62854873e-01\n",
      " -2.36995614e-01 -1.71509455e-01 -8.07711230e-02 -1.79965545e-01\n",
      " -2.14339804e-01 -9.88013592e-02 -2.24118103e-01 -9.50803049e-02\n",
      " -5.36429909e-02 -1.55263479e-01 -1.57194106e-01 -1.44325241e-01\n",
      " -1.11739702e-01 -8.40363216e-02 -2.44931976e-01 -1.93533461e-01\n",
      " -1.44971188e-01 -1.01536813e-01 -1.17235863e-01 -2.70418243e-01\n",
      " -7.10925398e-02 -2.56753649e-01 -2.93181479e-02 -1.84002320e-01\n",
      " -2.31253686e-01 -1.68151633e-01 -1.36101184e-01 -1.01621604e-01\n",
      " -1.26337800e-01 -2.75357624e-01 -1.60045777e-01 -2.52815088e-01\n",
      " -5.82590691e-02 -1.61822926e-01 -2.23118399e-01 -1.70843946e-01\n",
      " -6.11288249e-02 -1.87583055e-01 -3.49103180e-02 -2.32384905e-01\n",
      " -1.93674511e-01 -1.97836171e-01 -1.32182426e-01 -1.67624889e-01\n",
      " -2.02369536e-01 -4.69532675e-02 -2.31021422e-02 -7.99748601e-02\n",
      " -1.08283627e-01 -1.94507163e-01 -1.67816242e-01 -1.82238072e-01\n",
      " -8.87509262e-02 -1.27297324e-01 -2.40702796e-01 -1.27068157e-01\n",
      " -1.24374134e-01 -1.32267137e-01 -1.22320950e-01 -1.47455016e-01\n",
      " -9.01759303e-02 -1.33410563e-01 -1.36948030e-01 -2.01409630e-01\n",
      " -2.06002208e-01 -2.46018934e-01 -4.70816590e-02 -1.21516287e-01\n",
      " -1.27675154e-01 -8.63709332e-02 -1.18627838e-01 -1.26775195e-01\n",
      " -9.60390649e-02 -1.12013467e-01 -1.58048366e-01 -1.27873699e-01\n",
      " -1.61683374e-01 -2.56370813e-01 -3.34590950e-02 -1.14511529e-01\n",
      " -8.49034642e-02 -6.60678745e-02 -1.55793790e-01 -1.68768392e-01\n",
      " -1.28094959e-01 -4.62171736e-02 -2.19826221e-01 -1.13382053e-01\n",
      " -4.36943927e-02 -1.52676092e-01 -1.02096828e-01 -2.32112753e-01\n",
      " -1.54236834e-01 -1.28367719e-01 -1.78850663e-01 -1.20300012e-01\n",
      " -2.14130400e-01 -1.44229323e-01 -1.01839709e-01 -1.52444851e-01\n",
      " -8.75207683e-02 -3.86956129e-02 -4.77964774e-02 -2.07046863e-01\n",
      " -5.65394340e-02 -1.59764563e-01 -1.08327836e-01 -7.80522244e-02\n",
      " -9.09338748e-02 -1.54391102e-01 -1.72457289e-01 -8.37356834e-02\n",
      " -1.01170620e-01 -1.64935813e-01 -9.96158159e-02 -2.25741883e-01\n",
      " -8.72895688e-02 -4.23304237e-02 -1.99976819e-01 -4.41335257e-02\n",
      " -1.74567578e-01 -7.86525517e-02 -1.12560049e-01 -1.89626466e-01\n",
      " -6.36497000e-02 -7.84124822e-02 -1.82585297e-01 -7.20560908e-03\n",
      " -1.28505260e-01 -2.03625306e-01 -1.17459582e-01 -3.13491228e-02\n",
      " -2.15419479e-02 -7.30284304e-02 -1.63678468e-01 -1.61749661e-02\n",
      " -8.02135283e-02 -1.88946825e-01 -1.74223966e-01 -2.84187022e-01\n",
      " -2.38452381e-01 -1.17461764e-01 -1.33818442e-01 -4.04463628e-02\n",
      " -1.42724770e-01 -9.74469360e-02 -7.90058607e-02 -4.74660750e-02\n",
      " -7.58596576e-02 -1.82214301e-01 -1.51227237e-01 -1.56744700e-01\n",
      " -5.88259334e-02 -1.49266409e-01 -2.57334433e-01 -1.18601175e-01\n",
      " -1.60182712e-01 -1.95872099e-01 -5.48705270e-02 -1.70212982e-01\n",
      " -4.19879553e-03 -2.78368900e-02 -1.54639927e-01 -8.19710880e-02\n",
      " -8.48919269e-02 -1.44221743e-01 -4.74561319e-02 -2.08943829e-01\n",
      " -1.24010892e-01 -2.03125986e-01 -9.20343638e-02 -8.42416449e-02\n",
      " -1.69766887e-01 -2.21845584e-01 -1.25780299e-01 -1.92154806e-01]\n"
     ]
    }
   ],
   "source": [
    "lasso_eliminator = LassoEliminator(X_train, y_train, l1=1, threshold=1e-1)\n",
    "\n",
    "lasso_selected_features = lasso_eliminator.get_feature_indices()\n",
    "lasso_mask = variance_eliminator.get_feature_mask()\n",
    "\n",
    "X_train_lasso = X_train.iloc[:, lasso_selected_features]\n",
    "X_test_lasso = X_valid.iloc[:, lasso_selected_features]"
   ]
  },
  {
   "cell_type": "code",
   "execution_count": 28,
   "metadata": {},
   "outputs": [
    {
     "name": "stdout",
     "output_type": "stream",
     "text": [
      "Linear Regression: \n",
      "Number of used featues:  346\n",
      "Train mean squared error:  0.5340242905222083\n",
      "Validation mean squared error:  0.5358824169618749\n"
     ]
    }
   ],
   "source": [
    "# to numpy array\n",
    "X_train_lasso = X_train_lasso.to_numpy()\n",
    "X_test_lasso = X_test_lasso.to_numpy()\n",
    "\n",
    "lr_model = LinearRegression(fit_method=\"ols\", loss_function=\"rmse\")\n",
    "\n",
    "lr_model.fit(X_train_lasso, y_train)\n",
    "\n",
    "train_pred = lr_model.predict(X_train_lasso)\n",
    "test_pred = lr_model.predict(X_test_lasso)\n",
    "\n",
    "print(\"Linear Regression: \")\n",
    "print(\"Number of used featues: \", len(lasso_selected_features))\n",
    "print(\"Train mean squared error: \", root_mean_squared_error(y_train, train_pred))\n",
    "print(\"Validation mean squared error: \", root_mean_squared_error(y_valid, test_pred))"
   ]
  }
 ],
 "metadata": {
  "kernelspec": {
   "display_name": "Python 3",
   "language": "python",
   "name": "python3"
  },
  "language_info": {
   "codemirror_mode": {
    "name": "ipython",
    "version": 3
   },
   "file_extension": ".py",
   "mimetype": "text/x-python",
   "name": "python",
   "nbconvert_exporter": "python",
   "pygments_lexer": "ipython3",
   "version": "3.10.12"
  }
 },
 "nbformat": 4,
 "nbformat_minor": 2
}
