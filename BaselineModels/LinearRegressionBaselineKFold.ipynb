{
 "cells": [
  {
   "cell_type": "markdown",
   "metadata": {},
   "source": [
    "# Linear Regression Baseline"
   ]
  },
  {
   "cell_type": "markdown",
   "metadata": {},
   "source": [
    "## Preprocess Data"
   ]
  },
  {
   "cell_type": "code",
   "execution_count": 7,
   "metadata": {},
   "outputs": [],
   "source": [
    "import numpy as np\n",
    "import pandas as pd\n",
    "\n",
    "import sys\n",
    "import os\n",
    "sys.path.append(os.path.abspath('../'))\n",
    "\n",
    "from Models.LinearRegression import LinearRegression\n",
    "from Utils.Preprocessor import Preprocessor\n",
    "from Utils.Utils import root_mean_squared_error, train_test_split, initial_preprocessing\n",
    "from Utils.CrossValidation import KFoldCrossValidation\n",
    "from Utils.Pipeline import Pipeline"
   ]
  },
  {
   "cell_type": "code",
   "execution_count": 8,
   "metadata": {},
   "outputs": [],
   "source": [
    "# Read the data\n",
    "train = pd.read_csv('../Data/train.csv', index_col='Id')"
   ]
  },
  {
   "cell_type": "code",
   "execution_count": 9,
   "metadata": {},
   "outputs": [],
   "source": [
    "# Remove unnecessary features based on exploratory data analysis part 1.\n",
    "train = initial_preprocessing(train)"
   ]
  },
  {
   "cell_type": "code",
   "execution_count": 10,
   "metadata": {},
   "outputs": [],
   "source": [
    "X = train.drop(columns=[\"num_wins_agent1\", \"num_draws_agent1\", \"num_losses_agent1\", \"utility_agent1\"], axis=1)\n",
    "y = train[\"utility_agent1\"]"
   ]
  },
  {
   "cell_type": "code",
   "execution_count": 11,
   "metadata": {},
   "outputs": [],
   "source": [
    "X_train, X_valid, y_train, y_valid = train_test_split(X, y, test_size=0.2, random_state=42)\n",
    "# clip the dataset\n",
    "X_train = X_train[0:50000]\n",
    "y_train = y_train[0:50000]"
   ]
  },
  {
   "cell_type": "markdown",
   "metadata": {},
   "source": [
    "## 1- Linear Regression"
   ]
  },
  {
   "cell_type": "code",
   "execution_count": 12,
   "metadata": {},
   "outputs": [
    {
     "name": "stdout",
     "output_type": "stream",
     "text": [
      "Linear Regression: \n",
      "Cross Validation mean root mean squared error:  0.5226248339668308\n"
     ]
    }
   ],
   "source": [
    "preprocessor = Preprocessor(normalize=True, standardize=False, one_hot_encode=True)\n",
    "lr_model = LinearRegression(fit_method=\"ols\", loss_function=\"rmse\")\n",
    "pipeline = Pipeline(preprocessor, lr_model)\n",
    "croos_validator = KFoldCrossValidation(pipeline, X_train, y_train, k=5)\n",
    "\n",
    "print(\"Linear Regression 5 Fold Cross Validation: \")\n",
    "print(\"Cross Validation mean root mean squared error: \",  croos_validator.mean_score())"
   ]
  },
  {
   "cell_type": "markdown",
   "metadata": {},
   "source": [
    "## 2- Lasso Regression"
   ]
  },
  {
   "cell_type": "code",
   "execution_count": null,
   "metadata": {},
   "outputs": [
    {
     "name": "stdout",
     "output_type": "stream",
     "text": [
      "Lasso Linear Regression: \n",
      "Cross Validation mean root mean squared error:  0.6207939859987704\n"
     ]
    }
   ],
   "source": [
    "preprocessor = Preprocessor(normalize=True, standardize=False, one_hot_encode=True)\n",
    "lr_model = LinearRegression(fit_method=\"gd\", loss_function=\"rmse\", l1=0.01, learning_rate=0.01, epochs=10, min_step_size=0.001, gradient_descent='batch')\n",
    "pipeline = Pipeline(preprocessor, lr_model)\n",
    "croos_validator = KFoldCrossValidation(pipeline, X_train, y_train, k=5)\n",
    "\n",
    "print(\"Lasso Linear Regression 5 Fold Cross Validation: \")\n",
    "print(\"Cross Validation mean root mean squared error: \",  croos_validator.mean_score())"
   ]
  },
  {
   "cell_type": "markdown",
   "metadata": {},
   "source": [
    "## 3- Ridge Regression"
   ]
  },
  {
   "cell_type": "code",
   "execution_count": null,
   "metadata": {},
   "outputs": [
    {
     "name": "stdout",
     "output_type": "stream",
     "text": [
      "Ridge Linear Regression: \n",
      "Cross Validation mean root mean squared error:  0.5231208921777183\n"
     ]
    }
   ],
   "source": [
    "preprocessor = Preprocessor(normalize=True, standardize=False, one_hot_encode=True)\n",
    "lr_model = LinearRegression(fit_method=\"ols\", loss_function=\"rmse\", l2=0.01)\n",
    "pipeline = Pipeline(preprocessor, lr_model)\n",
    "croos_validator = KFoldCrossValidation(pipeline, X_train, y_train, k=5)\n",
    "\n",
    "print(\"Ridge Linear Regression 5 Fold Cross Validation: \")\n",
    "print(\"Cross Validation mean root mean squared error: \",  croos_validator.mean_score())"
   ]
  }
 ],
 "metadata": {
  "kernelspec": {
   "display_name": "Python 3",
   "language": "python",
   "name": "python3"
  },
  "language_info": {
   "codemirror_mode": {
    "name": "ipython",
    "version": 3
   },
   "file_extension": ".py",
   "mimetype": "text/x-python",
   "name": "python",
   "nbconvert_exporter": "python",
   "pygments_lexer": "ipython3",
   "version": "3.10.12"
  }
 },
 "nbformat": 4,
 "nbformat_minor": 2
}
