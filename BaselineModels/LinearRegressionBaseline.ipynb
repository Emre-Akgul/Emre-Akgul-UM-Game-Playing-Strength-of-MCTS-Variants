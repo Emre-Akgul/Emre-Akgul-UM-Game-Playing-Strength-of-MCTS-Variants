{
 "cells": [
  {
   "cell_type": "markdown",
   "metadata": {},
   "source": [
    "# Linear Regression Baseline"
   ]
  },
  {
   "cell_type": "markdown",
   "metadata": {},
   "source": [
    "## Preprocess Data"
   ]
  },
  {
   "cell_type": "code",
   "execution_count": 1,
   "metadata": {},
   "outputs": [],
   "source": [
    "import numpy as np\n",
    "import pandas as pd\n",
    "\n",
    "import sys\n",
    "import os\n",
    "sys.path.append(os.path.abspath('../'))\n",
    "\n",
    "from Models.LinearRegression import LinearRegression\n",
    "from Utils.Preprocessor import Preprocessor\n",
    "from Utils.Utils import root_mean_squared_error, train_test_split, initial_preprocessing"
   ]
  },
  {
   "cell_type": "code",
   "execution_count": 2,
   "metadata": {},
   "outputs": [],
   "source": [
    "# Read the data\n",
    "train = pd.read_csv('../Data/train.csv', index_col='Id')"
   ]
  },
  {
   "cell_type": "code",
   "execution_count": null,
   "metadata": {},
   "outputs": [],
   "source": [
    "# Remove unnecessary features based on exploratory data analysis part 1.\n",
    "train = initial_preprocessing(train)"
   ]
  },
  {
   "cell_type": "markdown",
   "metadata": {},
   "source": [
    "## 1- Linear Regression"
   ]
  },
  {
   "cell_type": "code",
   "execution_count": 4,
   "metadata": {},
   "outputs": [],
   "source": [
    "X = train.drop(columns=[\"num_wins_agent1\", \"num_draws_agent1\", \"num_losses_agent1\", \"utility_agent1\"], axis=1)\n",
    "y = train[\"utility_agent1\"]"
   ]
  },
  {
   "cell_type": "code",
   "execution_count": 5,
   "metadata": {},
   "outputs": [],
   "source": [
    "X_train, X_valid, y_train, y_valid = train_test_split(X, y, test_size=0.2, random_state=42)"
   ]
  },
  {
   "cell_type": "code",
   "execution_count": 6,
   "metadata": {},
   "outputs": [],
   "source": [
    "preprocessor = Preprocessor(normalize=True, standardize=False, one_hot_encode=True)\n",
    "\n",
    "X_train_p = preprocessor.fit_transform(X_train)\n",
    "X_valid_p = preprocessor.transform(X_valid)"
   ]
  },
  {
   "cell_type": "code",
   "execution_count": 7,
   "metadata": {},
   "outputs": [
    {
     "name": "stdout",
     "output_type": "stream",
     "text": [
      "Linear Regression: \n",
      "Train mean squared error:  0.5175135945021986\n",
      "Validation mean squared error:  0.51911678407925\n"
     ]
    }
   ],
   "source": [
    "lr_model = LinearRegression(fit_method=\"ols\", loss_function=\"rmse\")\n",
    "#lr_model = LinearRegression(fit_method=\"gd\", loss_function=\"rmse\", learning_rate=0.01, epochs=10, min_step_size=0.001, gradient_descent='batch')\n",
    "\n",
    "lr_model.fit(X_train_p, y_train)\n",
    "\n",
    "train_pred = lr_model.predict(X_train_p)\n",
    "test_pred = lr_model.predict(X_valid_p)\n",
    "\n",
    "print(\"Linear Regression: \")\n",
    "print(\"Train mean squared error: \", root_mean_squared_error(y_train, train_pred))\n",
    "print(\"Validation mean squared error: \", root_mean_squared_error(y_valid, test_pred))"
   ]
  },
  {
   "cell_type": "markdown",
   "metadata": {},
   "source": [
    "## 2- Lasso Regression"
   ]
  },
  {
   "cell_type": "markdown",
   "metadata": {},
   "source": [
    "## 3- Ridge Regression"
   ]
  }
 ],
 "metadata": {
  "kernelspec": {
   "display_name": "Python 3",
   "language": "python",
   "name": "python3"
  },
  "language_info": {
   "codemirror_mode": {
    "name": "ipython",
    "version": 3
   },
   "file_extension": ".py",
   "mimetype": "text/x-python",
   "name": "python",
   "nbconvert_exporter": "python",
   "pygments_lexer": "ipython3",
   "version": "3.10.12"
  }
 },
 "nbformat": 4,
 "nbformat_minor": 2
}
