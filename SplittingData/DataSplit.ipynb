{
 "cells": [
  {
   "cell_type": "code",
   "execution_count": 2,
   "metadata": {},
   "outputs": [],
   "source": [
    "import pandas as pd"
   ]
  },
  {
   "cell_type": "code",
   "execution_count": 3,
   "metadata": {},
   "outputs": [],
   "source": [
    "# Load whole data\n",
    "file_path = '../Data/data.csv'\n",
    "data = pd.read_csv(file_path, index_col='Id')\n",
    "\n",
    "# Split the data into training and testing sets (80% train, 20% test)\n",
    "test_size = int(0.2 * len(data))\n",
    "data_shuffled = data.sample(frac=1, random_state=42)\n",
    "\n",
    "train_data = data_shuffled.iloc[:-test_size]  # First 80% for training\n",
    "test_data = data_shuffled.iloc[-test_size:]  # Last 20% for testing\n",
    "\n",
    "train_data.to_csv('../Data/train.csv')\n",
    "test_data.to_csv('../Data/test.csv')"
   ]
  }
 ],
 "metadata": {
  "kernelspec": {
   "display_name": "Python 3",
   "language": "python",
   "name": "python3"
  },
  "language_info": {
   "codemirror_mode": {
    "name": "ipython",
    "version": 3
   },
   "file_extension": ".py",
   "mimetype": "text/x-python",
   "name": "python",
   "nbconvert_exporter": "python",
   "pygments_lexer": "ipython3",
   "version": "3.10.12"
  }
 },
 "nbformat": 4,
 "nbformat_minor": 2
}
